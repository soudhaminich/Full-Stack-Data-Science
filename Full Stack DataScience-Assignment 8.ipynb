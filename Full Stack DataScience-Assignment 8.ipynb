{
 "cells": [
  {
   "cell_type": "markdown",
   "metadata": {},
   "source": [
    "##1. Is the Python Standard Library included with PyInputPlus?\n",
    "\n",
    "PyInputPlus is not a part of the Python Standard Library, so you must install it separately using Pip. To install PyInputPlus, \n",
    "\n",
    "run from the command line. has complete instructions for installing third-party modules."
   ]
  },
  {
   "cell_type": "markdown",
   "metadata": {},
   "source": [
    "##2. Why is PyInputPlus commonly imported with import pyinputplus as pypi?\n",
    "\n",
    "We import the module with import pyinputplus as pyip so that you can enter a shorter name when calling the module’s functions."
   ]
  },
  {
   "cell_type": "markdown",
   "metadata": {},
   "source": [
    "##3. How do you distinguish between inputInt() and inputFloat()?\n",
    "\n",
    "inputInt() : It accepts an integer value. This also takes additional parameters ‘min’, ‘max’, ‘greaterThan’ and ‘lessThan’  for \n",
    "bounds. Returns an int.\n",
    "\n",
    "inputFloat() : It accepts a floating-point numeric value. Also takes additional ‘min’, ‘max’, ‘greaterThan’ and ‘lessThan’  parameters. Returns a float."
   ]
  },
  {
   "cell_type": "markdown",
   "metadata": {},
   "source": [
    "##4. Using PyInputPlus, how do you ensure that the user enters a whole number between 0 and 99?\n",
    "\n",
    "By using pyip.inputint(min=0, max=100)"
   ]
  },
  {
   "cell_type": "markdown",
   "metadata": {},
   "source": [
    "##5. What is transferred to the keyword arguments allowRegexes and blockRegexes?\n",
    "\n",
    "The allowRegexes and blockRegexes keyword arguments take a list of regular expression strings to determine what the PyInputPlus function will accept or reject as valid input."
   ]
  },
  {
   "cell_type": "markdown",
   "metadata": {},
   "source": [
    "##6. If a blank input is entered three times, what does inputStr(limit=3) do?\n",
    "\n",
    "If the user answers incorrectly more than 3 times, it raises a RetryLimitException exception."
   ]
  },
  {
   "cell_type": "markdown",
   "metadata": {},
   "source": [
    "##7. If blank input is entered three times, what does inputStr(limit=3, default='hello') do?\n",
    "\n",
    "Instead of raising RetryLimitException, the inputNum() function simply returns the string 'hello'."
   ]
  }
 ],
 "metadata": {
  "kernelspec": {
   "display_name": "Python 3",
   "language": "python",
   "name": "python3"
  },
  "language_info": {
   "codemirror_mode": {
    "name": "ipython",
    "version": 3
   },
   "file_extension": ".py",
   "mimetype": "text/x-python",
   "name": "python",
   "nbconvert_exporter": "python",
   "pygments_lexer": "ipython3",
   "version": "3.8.3"
  }
 },
 "nbformat": 4,
 "nbformat_minor": 4
}
