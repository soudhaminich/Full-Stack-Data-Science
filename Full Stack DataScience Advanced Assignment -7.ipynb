{
 "cells": [
  {
   "cell_type": "markdown",
   "metadata": {},
   "source": [
    "##Q1. What is the purpose of the try statement?\n",
    "\n",
    "Python's try statement is a means which we can use to handle errors gracefully. If the error is handled properly, execution of the code does not produce error status and there is no output to stderr.\n",
    "\n",
    "Python executes code following the try statement as a “normal” part of the program. The code that follows the except statement is the program's response to any exceptions in the preceding try clause.\n",
    "\n",
    "##Q2. What are the two most popular try statement variations?\n",
    "\n",
    "the try and except:\n",
    "\n",
    "First try clause is executed i.e. the code between try and except clause.\n",
    "\n",
    "If there is no exception, then only try clause will run, except clause will not get executed.\n",
    "\n",
    "If any exception occurs, the try clause will be skipped and except clause will run.\n",
    "\n",
    "try-catch:\n",
    "\n",
    "A Try…Catch statement consists of a Try block followed by one or more Catch clauses, which specify handlers for various exceptions. When an exception is thrown in a Try block, Visual Basic looks for the Catch statement that handles the exception. If a matching Catch statement is not found, Visual Basic examines the method that called the current method, and so on up the call stack. If no Catch block is fo\n",
    "\n",
    "\n",
    "##Q3. What is the purpose of the raise statement?\n",
    "\n",
    "The raise keyword is used to raise an exception. You can define what kind of error to raise, and the text to print to the user.\n",
    "\n",
    "Raising an exception is a technique for interrupting the normal flow of execution in a program, signaling that some exceptional circumstance has arisen, and returning directly to an enclosing part of the program that was designated to react to that circumstance.\n",
    "\n",
    "\n",
    "##Q4. What does the assert statement do, and what other statement is it like?\n",
    "\n",
    "Assert statement takes an expression and optional message. assert statement is used to check types, values of argument and the output of the function. assert statement is used as debugging tool as it halts the program at the point where an error occurs.\n",
    "\n",
    "\n",
    "##Q5. What is the purpose of the with/as argument, and what other statement is it like?\n",
    "\n",
    "with statement in Python is used in exception handling to make the code cleaner and much more readable. It simplifies the management of common resources like file streams\n",
    "\n",
    " The with statement itself ensures proper acquisition and release of resources. An exception during the file.write() call in the first implementation can prevent the file from closing properly which may introduce several bugs in the code, i.e. many changes in files do not go into effect until the file is properly closed."
   ]
  }
 ],
 "metadata": {
  "kernelspec": {
   "display_name": "Python 3",
   "language": "python",
   "name": "python3"
  },
  "language_info": {
   "codemirror_mode": {
    "name": "ipython",
    "version": 3
   },
   "file_extension": ".py",
   "mimetype": "text/x-python",
   "name": "python",
   "nbconvert_exporter": "python",
   "pygments_lexer": "ipython3",
   "version": "3.8.3"
  }
 },
 "nbformat": 4,
 "nbformat_minor": 4
}
