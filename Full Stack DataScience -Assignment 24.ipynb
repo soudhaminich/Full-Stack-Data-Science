{
 "cells": [
  {
   "cell_type": "markdown",
   "metadata": {},
   "source": [
    "##1. What is the relationship between def statements and lambda expressions ?\n",
    "\n",
    "As an expression, lambda returns a value that can optionally be assigned a name. In contrast, the def statement always assigns the new function to the name in the header, instead of returning is as a result. lambda's body is a single expression, not a block of statements."
   ]
  },
  {
   "cell_type": "markdown",
   "metadata": {},
   "source": [
    "##2. What is the benefit of lambda?\n",
    "\n",
    "The lambda keyword in Python provides a shortcut for declaring small anonymous functions. Lambda functions behave just like regular functions declared with the def keyword. They can be used whenever function objects are required.\n",
    "\n",
    "The power of lambda function can be realized only when it is used as part of another function. In combination with Python's built-in functional programming commands, the lambda functions will be of great use. The benefit of lambda functions are easily visible when used with python functions map, filter, and reduce"
   ]
  },
  {
   "cell_type": "markdown",
   "metadata": {},
   "source": [
    "##3. Compare and contrast map, filter, and reduce.\n",
    "\n",
    "Map():\n",
    "\n",
    "The basic function of map() is to manipulate iterables. Map executes all the conditions of a function on the items in the iterable. In the above example, we have multiplied each element in the range 0–10 with 2 which gives us completely new list of elements. Map function takes all elements and allows you to apply a function on it and then passes it to the output which can have same as well as different values .\n",
    "\n",
    "Filter():\n",
    "\n",
    "As the name suggests, it is used to filter the iterables as per the conditions. Filter filters the original iterable and passes the items that returns True for the function provided to filter. Therefore only the items in the iterables can be expected to be seen in the output. In the above example the condition is given in the form of lambda function and the elements which satisfy the condition are given in the list. The elements which are divisible by 2 are left and others are filtered out.\n",
    "\n",
    "Reduce:\n",
    "\n",
    "The reduce function will transform a given list into a single value by applying a given function continuously to all the elements. It basically keeps operating on pairs of elements until there are no more elements left."
   ]
  },
  {
   "cell_type": "markdown",
   "metadata": {},
   "source": [
    "##4. What are function annotations, and how are they used?\n",
    "\n",
    "Function annotations are completely optional both for parameters and return value.\n",
    "\n",
    "Function annotations provide a way of associating various parts of a function with arbitrary python expressions at compile time.\n",
    "\n",
    "The PEP-3107 makes no attempt to introduce any kind of standard semantics, even for the built-in types. All this work left to the third-party libraries.\n",
    "\n",
    "They are arbitrary expressions, which means that arbitrary values can be stored in the __annotations__ dictionary. Although, they don’t add much significance to the python itself, except that it should store the values. That said, defining the parameter and return types is a common use of function annotations."
   ]
  },
  {
   "cell_type": "markdown",
   "metadata": {},
   "source": [
    "##5. What are recursive functions, and how are they used?\n",
    "\n",
    "A recursive function is a function that calls itself during its execution. The process may repeat several times, outputting the result and the end of each iteration. \n",
    "\n",
    "Recursion is made for solving problems that can be broken down into smaller, repetitive problems. It is especially good for working on things that have many possible branches and are too complex for an iterative approach. One good example of this would be searching through a file system"
   ]
  },
  {
   "cell_type": "markdown",
   "metadata": {},
   "source": [
    "##6. What are some general design guidelines for coding functions?\n",
    "\n",
    "Coding rules and guidelines ensure that software is:\n",
    "\n",
    "Safe: It can be used without causing harm.\n",
    "\n",
    "Secure: It can’t be hacked.\n",
    "\n",
    "Reliable: It functions as it should, every time.\n",
    "\n",
    "Testable: It can be tested at the code level.\n",
    "\n",
    "Maintainable: It can be maintained, even as your codebase grows.\n",
    "\n",
    "Portable: It works the same in every environment."
   ]
  },
  {
   "cell_type": "markdown",
   "metadata": {},
   "source": [
    "##7. Name three or more ways that functions can communicate results to a caller.\n",
    "\n",
    "Explicit return Statements\n",
    "\n",
    "Implicit return Statements\n",
    "\n",
    "Printing Statements"
   ]
  }
 ],
 "metadata": {
  "kernelspec": {
   "display_name": "Python 3",
   "language": "python",
   "name": "python3"
  },
  "language_info": {
   "codemirror_mode": {
    "name": "ipython",
    "version": 3
   },
   "file_extension": ".py",
   "mimetype": "text/x-python",
   "name": "python",
   "nbconvert_exporter": "python",
   "pygments_lexer": "ipython3",
   "version": "3.8.3"
  }
 },
 "nbformat": 4,
 "nbformat_minor": 4
}
