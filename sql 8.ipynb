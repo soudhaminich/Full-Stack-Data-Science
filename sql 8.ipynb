{
 "cells": [
  {
   "cell_type": "code",
   "execution_count": 1,
   "metadata": {},
   "outputs": [],
   "source": [
    "%load_ext sql"
   ]
  },
  {
   "cell_type": "code",
   "execution_count": 2,
   "metadata": {},
   "outputs": [],
   "source": [
    "%sql sqlite://"
   ]
  },
  {
   "cell_type": "code",
   "execution_count": 3,
   "metadata": {},
   "outputs": [
    {
     "name": "stdout",
     "output_type": "stream",
     "text": [
      " * sqlite://\n",
      "Done.\n"
     ]
    },
    {
     "data": {
      "text/plain": [
       "[]"
      ]
     },
     "execution_count": 3,
     "metadata": {},
     "output_type": "execute_result"
    }
   ],
   "source": [
    "%%sql\n",
    "\n",
    "CREATE TABLE Worker (ID INT PRIMARY KEY  ,\n",
    "                     First_Name VARCHAR (20) NOT NULL , \n",
    "                     Last_Name VARCHAR(20) , \n",
    "                     EMAIL varchar(50) ,\n",
    "                     DEPARTMENT VARCHAR(20) NOT NULL , \n",
    "                     Salary INT , \n",
    "                     Join_Date DATE) ;"
   ]
  },
  {
   "cell_type": "code",
   "execution_count": 4,
   "metadata": {},
   "outputs": [
    {
     "name": "stdout",
     "output_type": "stream",
     "text": [
      " * sqlite://\n",
      "1 rows affected.\n",
      "1 rows affected.\n",
      "1 rows affected.\n",
      "1 rows affected.\n",
      "1 rows affected.\n",
      "1 rows affected.\n",
      "1 rows affected.\n",
      "1 rows affected.\n",
      "1 rows affected.\n",
      "1 rows affected.\n",
      "1 rows affected.\n",
      "1 rows affected.\n",
      "1 rows affected.\n",
      "1 rows affected.\n",
      "1 rows affected.\n",
      "1 rows affected.\n",
      "1 rows affected.\n",
      "1 rows affected.\n",
      "1 rows affected.\n"
     ]
    },
    {
     "data": {
      "text/plain": [
       "[]"
      ]
     },
     "execution_count": 4,
     "metadata": {},
     "output_type": "execute_result"
    }
   ],
   "source": [
    "%%sql\n",
    "\n",
    "INSERT INTO Worker Values(1,'Vishal','Rathore','vishalrathore@ineuron.com','Finance', 45000,'2018-02-12');\n",
    "INSERT INTO Worker Values(2,'Rahul','Sarathe','rahulsarathe@ineuron.com','HR', 60000,  '2017-04-17');\n",
    "INSERT INTO Worker Values(3,'Anisha','Gour','anishagour@ineuron.com','Purchase', 30000, '2017-12-20');\n",
    "INSERT INTO Worker Values(4,'Saksham','Mahajan','sakshammahajan@ineuron.com','Finance', 60000, '2019-11-12');\n",
    "INSERT INTO Worker Values(5,'Aakash','Singh','amansingh@ineuron.com','Purchase',30000,  '2017-09-05');\n",
    "INSERT INTO Worker Values(6,'Ankit','Kumar','ankitkumar@ineuron.com','Marketing', 50000,  '2020-01-14');\n",
    "INSERT INTO Worker Values(7,'Riya','Agarwal','riyaagarwal@ineuron.com','Finance', 45000, '2018-04-23');\n",
    "INSERT INTO Worker Values(8,'Nishit','Sharma','nishitsharma@ineuron.com','Purchase', 48000, '2018-10-10');\n",
    "INSERT INTO Worker Values(9,'Samay','Raina','samayraina@ineuron.com','Marketing', 36000,  '2017-08-22');\n",
    "INSERT INTO Worker Values(10,'Aman','Singh','amansingh@ineuron.com','Finance', 45000,  '2017-08-12');\n",
    "INSERT INTO Worker Values(11,'Sarthak','Jain','sarthakjain@ineuron.com','Purchase', 48000,  '2018-04-08');\n",
    "INSERT INTO Worker Values(12,'Ashutosh','Patil','ashutoshpatil@ineuron.com','PR', 50000,  '2019-09-26');\n",
    "INSERT INTO Worker Values(13,'Harshit','Kumar','harshitkumar@ineuron.com','HR', 40000,  '2018-06-05');\n",
    "INSERT INTO Worker Values(14,'Ayush','Srivastav','ayushsrivastav@ineuron.com','Purchase', 30000,  '2018-08-24');\n",
    "INSERT INTO Worker Values(15,'Shreyansh','Deriya','shreyanshderiya@ineuron.com','PR', 35000, '2017-07-13');\n",
    "INSERT INTO Worker Values(16,'Aryan','Sharma','aryansharma@ineuron.com','Finance', 60000,  '2019-10-31');\n",
    "INSERT INTO Worker Values(17,'Snehal','Reddy','snehalreddy@ineuron.com','HR', 40000, '2019-03-28');\n",
    "INSERT INTO Worker Values(18,'Shubham','Mittal','shubhammittal@ineuron.com','PR', 35000,'2020-02-01');\n",
    "INSERT INTO Worker Values(19,'Rakshit','Rao','rakshitao@ineuron.com','Marketing', 36000, '2018-11-30');"
   ]
  },
  {
   "cell_type": "code",
   "execution_count": 5,
   "metadata": {},
   "outputs": [
    {
     "name": "stdout",
     "output_type": "stream",
     "text": [
      " * sqlite://\n",
      "Done.\n"
     ]
    },
    {
     "data": {
      "text/plain": [
       "[]"
      ]
     },
     "execution_count": 5,
     "metadata": {},
     "output_type": "execute_result"
    }
   ],
   "source": [
    "%%sql\n",
    "\n",
    "CREATE TABLE Worker_Clone as SELECT * FROM Worker;"
   ]
  },
  {
   "cell_type": "code",
   "execution_count": 6,
   "metadata": {},
   "outputs": [
    {
     "name": "stdout",
     "output_type": "stream",
     "text": [
      " * sqlite://\n",
      "19 rows affected.\n"
     ]
    },
    {
     "data": {
      "text/plain": [
       "[]"
      ]
     },
     "execution_count": 6,
     "metadata": {},
     "output_type": "execute_result"
    }
   ],
   "source": [
    "%%sql\n",
    "\n",
    "insert  INTO Worker_Clone SELECT * FROM Worker;\n"
   ]
  },
  {
   "cell_type": "code",
   "execution_count": 7,
   "metadata": {},
   "outputs": [
    {
     "name": "stdout",
     "output_type": "stream",
     "text": [
      " * sqlite://\n",
      "1 rows affected.\n",
      "1 rows affected.\n",
      "1 rows affected.\n",
      "1 rows affected.\n",
      "1 rows affected.\n"
     ]
    },
    {
     "data": {
      "text/plain": [
       "[]"
      ]
     },
     "execution_count": 7,
     "metadata": {},
     "output_type": "execute_result"
    }
   ],
   "source": [
    "%%sql\n",
    "\n",
    "INSERT INTO Worker_Clone Values(20,'anil','Rai','anilrai@ineuron.com','Finance', 45000,'2018-02-12');\n",
    "INSERT INTO Worker_Clone Values(21,'Rosy','Surat','rosysurat@ineuron.com','HR', 60000,  '2017-04-17');\n",
    "INSERT INTO Worker_Clone Values(22,'Amy','Syam','amysyam@ineuron.com','Purchase', 30000, '2017-12-20');\n",
    "INSERT INTO Worker_Clone Values(23,'Sid','Mah','sidmah@ineuron.com','Finance', 60000, '2019-11-12');\n",
    "INSERT INTO Worker_Clone Values(24,'Aarohi','Singh','aarohisingh@ineuron.com','Purchase',30000,  '2017-09-05');"
   ]
  },
  {
   "cell_type": "code",
   "execution_count": 8,
   "metadata": {},
   "outputs": [
    {
     "name": "stdout",
     "output_type": "stream",
     "text": [
      " * sqlite://\n",
      "Done.\n"
     ]
    },
    {
     "data": {
      "text/html": [
       "<table>\n",
       "    <tr>\n",
       "        <th>ID</th>\n",
       "        <th>First_Name</th>\n",
       "        <th>Last_Name</th>\n",
       "        <th>EMAIL</th>\n",
       "        <th>DEPARTMENT</th>\n",
       "        <th>Salary</th>\n",
       "        <th>Join_Date</th>\n",
       "    </tr>\n",
       "    <tr>\n",
       "        <td>1</td>\n",
       "        <td>Vishal</td>\n",
       "        <td>Rathore</td>\n",
       "        <td>vishalrathore@ineuron.com</td>\n",
       "        <td>Finance</td>\n",
       "        <td>45000</td>\n",
       "        <td>2018-02-12</td>\n",
       "    </tr>\n",
       "    <tr>\n",
       "        <td>2</td>\n",
       "        <td>Rahul</td>\n",
       "        <td>Sarathe</td>\n",
       "        <td>rahulsarathe@ineuron.com</td>\n",
       "        <td>HR</td>\n",
       "        <td>60000</td>\n",
       "        <td>2017-04-17</td>\n",
       "    </tr>\n",
       "    <tr>\n",
       "        <td>3</td>\n",
       "        <td>Anisha</td>\n",
       "        <td>Gour</td>\n",
       "        <td>anishagour@ineuron.com</td>\n",
       "        <td>Purchase</td>\n",
       "        <td>30000</td>\n",
       "        <td>2017-12-20</td>\n",
       "    </tr>\n",
       "    <tr>\n",
       "        <td>4</td>\n",
       "        <td>Saksham</td>\n",
       "        <td>Mahajan</td>\n",
       "        <td>sakshammahajan@ineuron.com</td>\n",
       "        <td>Finance</td>\n",
       "        <td>60000</td>\n",
       "        <td>2019-11-12</td>\n",
       "    </tr>\n",
       "    <tr>\n",
       "        <td>5</td>\n",
       "        <td>Aakash</td>\n",
       "        <td>Singh</td>\n",
       "        <td>amansingh@ineuron.com</td>\n",
       "        <td>Purchase</td>\n",
       "        <td>30000</td>\n",
       "        <td>2017-09-05</td>\n",
       "    </tr>\n",
       "    <tr>\n",
       "        <td>6</td>\n",
       "        <td>Ankit</td>\n",
       "        <td>Kumar</td>\n",
       "        <td>ankitkumar@ineuron.com</td>\n",
       "        <td>Marketing</td>\n",
       "        <td>50000</td>\n",
       "        <td>2020-01-14</td>\n",
       "    </tr>\n",
       "    <tr>\n",
       "        <td>7</td>\n",
       "        <td>Riya</td>\n",
       "        <td>Agarwal</td>\n",
       "        <td>riyaagarwal@ineuron.com</td>\n",
       "        <td>Finance</td>\n",
       "        <td>45000</td>\n",
       "        <td>2018-04-23</td>\n",
       "    </tr>\n",
       "    <tr>\n",
       "        <td>8</td>\n",
       "        <td>Nishit</td>\n",
       "        <td>Sharma</td>\n",
       "        <td>nishitsharma@ineuron.com</td>\n",
       "        <td>Purchase</td>\n",
       "        <td>48000</td>\n",
       "        <td>2018-10-10</td>\n",
       "    </tr>\n",
       "    <tr>\n",
       "        <td>9</td>\n",
       "        <td>Samay</td>\n",
       "        <td>Raina</td>\n",
       "        <td>samayraina@ineuron.com</td>\n",
       "        <td>Marketing</td>\n",
       "        <td>36000</td>\n",
       "        <td>2017-08-22</td>\n",
       "    </tr>\n",
       "    <tr>\n",
       "        <td>10</td>\n",
       "        <td>Aman</td>\n",
       "        <td>Singh</td>\n",
       "        <td>amansingh@ineuron.com</td>\n",
       "        <td>Finance</td>\n",
       "        <td>45000</td>\n",
       "        <td>2017-08-12</td>\n",
       "    </tr>\n",
       "    <tr>\n",
       "        <td>11</td>\n",
       "        <td>Sarthak</td>\n",
       "        <td>Jain</td>\n",
       "        <td>sarthakjain@ineuron.com</td>\n",
       "        <td>Purchase</td>\n",
       "        <td>48000</td>\n",
       "        <td>2018-04-08</td>\n",
       "    </tr>\n",
       "    <tr>\n",
       "        <td>12</td>\n",
       "        <td>Ashutosh</td>\n",
       "        <td>Patil</td>\n",
       "        <td>ashutoshpatil@ineuron.com</td>\n",
       "        <td>PR</td>\n",
       "        <td>50000</td>\n",
       "        <td>2019-09-26</td>\n",
       "    </tr>\n",
       "    <tr>\n",
       "        <td>13</td>\n",
       "        <td>Harshit</td>\n",
       "        <td>Kumar</td>\n",
       "        <td>harshitkumar@ineuron.com</td>\n",
       "        <td>HR</td>\n",
       "        <td>40000</td>\n",
       "        <td>2018-06-05</td>\n",
       "    </tr>\n",
       "    <tr>\n",
       "        <td>14</td>\n",
       "        <td>Ayush</td>\n",
       "        <td>Srivastav</td>\n",
       "        <td>ayushsrivastav@ineuron.com</td>\n",
       "        <td>Purchase</td>\n",
       "        <td>30000</td>\n",
       "        <td>2018-08-24</td>\n",
       "    </tr>\n",
       "    <tr>\n",
       "        <td>15</td>\n",
       "        <td>Shreyansh</td>\n",
       "        <td>Deriya</td>\n",
       "        <td>shreyanshderiya@ineuron.com</td>\n",
       "        <td>PR</td>\n",
       "        <td>35000</td>\n",
       "        <td>2017-07-13</td>\n",
       "    </tr>\n",
       "    <tr>\n",
       "        <td>16</td>\n",
       "        <td>Aryan</td>\n",
       "        <td>Sharma</td>\n",
       "        <td>aryansharma@ineuron.com</td>\n",
       "        <td>Finance</td>\n",
       "        <td>60000</td>\n",
       "        <td>2019-10-31</td>\n",
       "    </tr>\n",
       "    <tr>\n",
       "        <td>17</td>\n",
       "        <td>Snehal</td>\n",
       "        <td>Reddy</td>\n",
       "        <td>snehalreddy@ineuron.com</td>\n",
       "        <td>HR</td>\n",
       "        <td>40000</td>\n",
       "        <td>2019-03-28</td>\n",
       "    </tr>\n",
       "    <tr>\n",
       "        <td>18</td>\n",
       "        <td>Shubham</td>\n",
       "        <td>Mittal</td>\n",
       "        <td>shubhammittal@ineuron.com</td>\n",
       "        <td>PR</td>\n",
       "        <td>35000</td>\n",
       "        <td>2020-02-01</td>\n",
       "    </tr>\n",
       "    <tr>\n",
       "        <td>19</td>\n",
       "        <td>Rakshit</td>\n",
       "        <td>Rao</td>\n",
       "        <td>rakshitao@ineuron.com</td>\n",
       "        <td>Marketing</td>\n",
       "        <td>36000</td>\n",
       "        <td>2018-11-30</td>\n",
       "    </tr>\n",
       "</table>"
      ],
      "text/plain": [
       "[(1, 'Vishal', 'Rathore', 'vishalrathore@ineuron.com', 'Finance', 45000, '2018-02-12'),\n",
       " (2, 'Rahul', 'Sarathe', 'rahulsarathe@ineuron.com', 'HR', 60000, '2017-04-17'),\n",
       " (3, 'Anisha', 'Gour', 'anishagour@ineuron.com', 'Purchase', 30000, '2017-12-20'),\n",
       " (4, 'Saksham', 'Mahajan', 'sakshammahajan@ineuron.com', 'Finance', 60000, '2019-11-12'),\n",
       " (5, 'Aakash', 'Singh', 'amansingh@ineuron.com', 'Purchase', 30000, '2017-09-05'),\n",
       " (6, 'Ankit', 'Kumar', 'ankitkumar@ineuron.com', 'Marketing', 50000, '2020-01-14'),\n",
       " (7, 'Riya', 'Agarwal', 'riyaagarwal@ineuron.com', 'Finance', 45000, '2018-04-23'),\n",
       " (8, 'Nishit', 'Sharma', 'nishitsharma@ineuron.com', 'Purchase', 48000, '2018-10-10'),\n",
       " (9, 'Samay', 'Raina', 'samayraina@ineuron.com', 'Marketing', 36000, '2017-08-22'),\n",
       " (10, 'Aman', 'Singh', 'amansingh@ineuron.com', 'Finance', 45000, '2017-08-12'),\n",
       " (11, 'Sarthak', 'Jain', 'sarthakjain@ineuron.com', 'Purchase', 48000, '2018-04-08'),\n",
       " (12, 'Ashutosh', 'Patil', 'ashutoshpatil@ineuron.com', 'PR', 50000, '2019-09-26'),\n",
       " (13, 'Harshit', 'Kumar', 'harshitkumar@ineuron.com', 'HR', 40000, '2018-06-05'),\n",
       " (14, 'Ayush', 'Srivastav', 'ayushsrivastav@ineuron.com', 'Purchase', 30000, '2018-08-24'),\n",
       " (15, 'Shreyansh', 'Deriya', 'shreyanshderiya@ineuron.com', 'PR', 35000, '2017-07-13'),\n",
       " (16, 'Aryan', 'Sharma', 'aryansharma@ineuron.com', 'Finance', 60000, '2019-10-31'),\n",
       " (17, 'Snehal', 'Reddy', 'snehalreddy@ineuron.com', 'HR', 40000, '2019-03-28'),\n",
       " (18, 'Shubham', 'Mittal', 'shubhammittal@ineuron.com', 'PR', 35000, '2020-02-01'),\n",
       " (19, 'Rakshit', 'Rao', 'rakshitao@ineuron.com', 'Marketing', 36000, '2018-11-30')]"
      ]
     },
     "execution_count": 8,
     "metadata": {},
     "output_type": "execute_result"
    }
   ],
   "source": [
    "%%sql\n",
    "\n",
    "select * from Worker\n",
    "intersect\n",
    "select * from Worker_Clone;"
   ]
  },
  {
   "cell_type": "markdown",
   "metadata": {},
   "source": [
    "##Q-2. Write an SQL query to sho records from one table that another table does not have."
   ]
  },
  {
   "cell_type": "code",
   "execution_count": 12,
   "metadata": {},
   "outputs": [
    {
     "name": "stdout",
     "output_type": "stream",
     "text": [
      " * sqlite://\n",
      "Done.\n"
     ]
    },
    {
     "data": {
      "text/html": [
       "<table>\n",
       "    <tr>\n",
       "        <th>ID</th>\n",
       "        <th>First_Name</th>\n",
       "        <th>Last_Name</th>\n",
       "        <th>EMAIL</th>\n",
       "        <th>DEPARTMENT</th>\n",
       "        <th>Salary</th>\n",
       "        <th>Join_Date</th>\n",
       "    </tr>\n",
       "    <tr>\n",
       "        <td>20</td>\n",
       "        <td>anil</td>\n",
       "        <td>Rai</td>\n",
       "        <td>anilrai@ineuron.com</td>\n",
       "        <td>Finance</td>\n",
       "        <td>45000</td>\n",
       "        <td>2018-02-12</td>\n",
       "    </tr>\n",
       "    <tr>\n",
       "        <td>21</td>\n",
       "        <td>Rosy</td>\n",
       "        <td>Surat</td>\n",
       "        <td>rosysurat@ineuron.com</td>\n",
       "        <td>HR</td>\n",
       "        <td>60000</td>\n",
       "        <td>2017-04-17</td>\n",
       "    </tr>\n",
       "    <tr>\n",
       "        <td>22</td>\n",
       "        <td>Amy</td>\n",
       "        <td>Syam</td>\n",
       "        <td>amysyam@ineuron.com</td>\n",
       "        <td>Purchase</td>\n",
       "        <td>30000</td>\n",
       "        <td>2017-12-20</td>\n",
       "    </tr>\n",
       "    <tr>\n",
       "        <td>23</td>\n",
       "        <td>Sid</td>\n",
       "        <td>Mah</td>\n",
       "        <td>sidmah@ineuron.com</td>\n",
       "        <td>Finance</td>\n",
       "        <td>60000</td>\n",
       "        <td>2019-11-12</td>\n",
       "    </tr>\n",
       "    <tr>\n",
       "        <td>24</td>\n",
       "        <td>Aarohi</td>\n",
       "        <td>Singh</td>\n",
       "        <td>aarohisingh@ineuron.com</td>\n",
       "        <td>Purchase</td>\n",
       "        <td>30000</td>\n",
       "        <td>2017-09-05</td>\n",
       "    </tr>\n",
       "</table>"
      ],
      "text/plain": [
       "[(20, 'anil', 'Rai', 'anilrai@ineuron.com', 'Finance', 45000, '2018-02-12'),\n",
       " (21, 'Rosy', 'Surat', 'rosysurat@ineuron.com', 'HR', 60000, '2017-04-17'),\n",
       " (22, 'Amy', 'Syam', 'amysyam@ineuron.com', 'Purchase', 30000, '2017-12-20'),\n",
       " (23, 'Sid', 'Mah', 'sidmah@ineuron.com', 'Finance', 60000, '2019-11-12'),\n",
       " (24, 'Aarohi', 'Singh', 'aarohisingh@ineuron.com', 'Purchase', 30000, '2017-09-05')]"
      ]
     },
     "execution_count": 12,
     "metadata": {},
     "output_type": "execute_result"
    }
   ],
   "source": [
    "%%sql\n",
    "\n",
    "with t1 as (select w.ID from Worker w left join Worker_Clone wc on w.ID=wc.ID)\n",
    "select * from Worker_Clone \n",
    "where ID NOT IN (select * from t1);"
   ]
  }
 ],
 "metadata": {
  "kernelspec": {
   "display_name": "Python 3",
   "language": "python",
   "name": "python3"
  },
  "language_info": {
   "codemirror_mode": {
    "name": "ipython",
    "version": 3
   },
   "file_extension": ".py",
   "mimetype": "text/x-python",
   "name": "python",
   "nbconvert_exporter": "python",
   "pygments_lexer": "ipython3",
   "version": "3.8.3"
  }
 },
 "nbformat": 4,
 "nbformat_minor": 4
}
