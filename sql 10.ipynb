{
 "cells": [
  {
   "cell_type": "code",
   "execution_count": 1,
   "metadata": {},
   "outputs": [],
   "source": [
    "%load_ext sql"
   ]
  },
  {
   "cell_type": "code",
   "execution_count": 2,
   "metadata": {},
   "outputs": [],
   "source": [
    "%sql sqlite://"
   ]
  },
  {
   "cell_type": "code",
   "execution_count": 3,
   "metadata": {},
   "outputs": [
    {
     "name": "stdout",
     "output_type": "stream",
     "text": [
      " * sqlite://\n",
      "Done.\n"
     ]
    },
    {
     "data": {
      "text/plain": [
       "[]"
      ]
     },
     "execution_count": 3,
     "metadata": {},
     "output_type": "execute_result"
    }
   ],
   "source": [
    "%%sql\n",
    "\n",
    "CREATE TABLE Worker (ID INT PRIMARY KEY  ,\n",
    "                     First_Name VARCHAR (20) NOT NULL , \n",
    "                     Last_Name VARCHAR(20) , \n",
    "                     EMAIL varchar(50) ,\n",
    "                     DEPARTMENT VARCHAR(20) NOT NULL , \n",
    "                     Salary INT , \n",
    "                     Join_Date DATE) ;"
   ]
  },
  {
   "cell_type": "code",
   "execution_count": 4,
   "metadata": {},
   "outputs": [
    {
     "name": "stdout",
     "output_type": "stream",
     "text": [
      " * sqlite://\n",
      "1 rows affected.\n",
      "1 rows affected.\n",
      "1 rows affected.\n",
      "1 rows affected.\n",
      "1 rows affected.\n",
      "1 rows affected.\n",
      "1 rows affected.\n",
      "1 rows affected.\n",
      "1 rows affected.\n",
      "1 rows affected.\n",
      "1 rows affected.\n",
      "1 rows affected.\n",
      "1 rows affected.\n",
      "1 rows affected.\n",
      "1 rows affected.\n",
      "1 rows affected.\n",
      "1 rows affected.\n",
      "1 rows affected.\n",
      "1 rows affected.\n"
     ]
    },
    {
     "data": {
      "text/plain": [
       "[]"
      ]
     },
     "execution_count": 4,
     "metadata": {},
     "output_type": "execute_result"
    }
   ],
   "source": [
    "%%sql\n",
    "\n",
    "INSERT INTO Worker Values(1,'Vishal','Rathore','vishalrathore@ineuron.com','Finance', 45000,'2018-02-12');\n",
    "INSERT INTO Worker Values(2,'Rahul','Sarathe','rahulsarathe@ineuron.com','HR', 60000,  '2017-04-17');\n",
    "INSERT INTO Worker Values(3,'Anisha','Gour','anishagour@ineuron.com','Purchase', 30000, '2017-12-20');\n",
    "INSERT INTO Worker Values(4,'Saksham','Mahajan','sakshammahajan@ineuron.com','Finance', 60000, '2019-11-12');\n",
    "INSERT INTO Worker Values(5,'Aakash','Singh','amansingh@ineuron.com','Purchase',30000,  '2017-09-05');\n",
    "INSERT INTO Worker Values(6,'Ankit','Kumar','ankitkumar@ineuron.com','Marketing', 50000,  '2020-01-14');\n",
    "INSERT INTO Worker Values(7,'Riya','Agarwal','riyaagarwal@ineuron.com','Finance', 45000, '2018-04-23');\n",
    "INSERT INTO Worker Values(8,'Nishit','Sharma','nishitsharma@ineuron.com','Purchase', 48000, '2018-10-10');\n",
    "INSERT INTO Worker Values(9,'Samay','Raina','samayraina@ineuron.com','Marketing', 36000,  '2017-08-22');\n",
    "INSERT INTO Worker Values(10,'Aman','Singh','amansingh@ineuron.com','Finance', 45000,  '2017-08-12');\n",
    "INSERT INTO Worker Values(11,'Sarthak','Jain','sarthakjain@ineuron.com','Purchase', 48000,  '2018-04-08');\n",
    "INSERT INTO Worker Values(12,'Ashutosh','Patil','ashutoshpatil@ineuron.com','PR', 50000,  '2019-09-26');\n",
    "INSERT INTO Worker Values(13,'Harshit','Kumar','harshitkumar@ineuron.com','HR', 40000,  '2018-06-05');\n",
    "INSERT INTO Worker Values(14,'Ayush','Srivastav','ayushsrivastav@ineuron.com','Purchase', 30000,  '2018-08-24');\n",
    "INSERT INTO Worker Values(15,'Shreyansh','Deriya','shreyanshderiya@ineuron.com','PR', 35000, '2017-07-13');\n",
    "INSERT INTO Worker Values(16,'Aryan','Sharma','aryansharma@ineuron.com','Finance', 60000,  '2019-10-31');\n",
    "INSERT INTO Worker Values(17,'Snehal','Reddy','snehalreddy@ineuron.com','HR', 40000, '2019-03-28');\n",
    "INSERT INTO Worker Values(18,'Shubham','Mittal','shubhammittal@ineuron.com','PR', 35000,'2020-02-01');\n",
    "INSERT INTO Worker Values(19,'Rakshit','Rao','rakshitao@ineuron.com','Marketing', 36000, '2018-11-30');"
   ]
  },
  {
   "cell_type": "markdown",
   "metadata": {},
   "source": [
    "##Q-1. Write an SQL query to determine the 5th highest salary without using TOP or  LIMIT method"
   ]
  },
  {
   "cell_type": "code",
   "execution_count": 6,
   "metadata": {},
   "outputs": [
    {
     "name": "stdout",
     "output_type": "stream",
     "text": [
      " * sqlite://\n",
      "Done.\n"
     ]
    },
    {
     "data": {
      "text/html": [
       "<table>\n",
       "    <tr>\n",
       "        <th>ID</th>\n",
       "        <th>First_Name</th>\n",
       "        <th>Last_Name</th>\n",
       "        <th>EMAIL</th>\n",
       "        <th>DEPARTMENT</th>\n",
       "        <th>Salary</th>\n",
       "        <th>Join_Date</th>\n",
       "        <th>row_no</th>\n",
       "    </tr>\n",
       "    <tr>\n",
       "        <td>12</td>\n",
       "        <td>Ashutosh</td>\n",
       "        <td>Patil</td>\n",
       "        <td>ashutoshpatil@ineuron.com</td>\n",
       "        <td>PR</td>\n",
       "        <td>50000</td>\n",
       "        <td>2019-09-26</td>\n",
       "        <td>5</td>\n",
       "    </tr>\n",
       "</table>"
      ],
      "text/plain": [
       "[(12, 'Ashutosh', 'Patil', 'ashutoshpatil@ineuron.com', 'PR', 50000, '2019-09-26', 5)]"
      ]
     },
     "execution_count": 6,
     "metadata": {},
     "output_type": "execute_result"
    }
   ],
   "source": [
    "%%sql\n",
    "\n",
    "with t1 as(\n",
    "select *, ROW_NUMBER() OVER (ORDER BY SALARY DESC) row_no from Worker )\n",
    "\n",
    "select * from t1 where row_no=5;"
   ]
  },
  {
   "cell_type": "markdown",
   "metadata": {},
   "source": [
    "##Q-2. Write an SQL query to fetch the list of employees with the same salary."
   ]
  },
  {
   "cell_type": "code",
   "execution_count": 10,
   "metadata": {},
   "outputs": [
    {
     "name": "stdout",
     "output_type": "stream",
     "text": [
      " * sqlite://\n",
      "Done.\n"
     ]
    },
    {
     "data": {
      "text/html": [
       "<table>\n",
       "    <tr>\n",
       "        <th>ID</th>\n",
       "        <th>First_Name</th>\n",
       "        <th>Salary</th>\n",
       "    </tr>\n",
       "    <tr>\n",
       "        <td>1</td>\n",
       "        <td>Vishal</td>\n",
       "        <td>45000</td>\n",
       "    </tr>\n",
       "    <tr>\n",
       "        <td>2</td>\n",
       "        <td>Rahul</td>\n",
       "        <td>60000</td>\n",
       "    </tr>\n",
       "    <tr>\n",
       "        <td>3</td>\n",
       "        <td>Anisha</td>\n",
       "        <td>30000</td>\n",
       "    </tr>\n",
       "    <tr>\n",
       "        <td>4</td>\n",
       "        <td>Saksham</td>\n",
       "        <td>60000</td>\n",
       "    </tr>\n",
       "    <tr>\n",
       "        <td>5</td>\n",
       "        <td>Aakash</td>\n",
       "        <td>30000</td>\n",
       "    </tr>\n",
       "    <tr>\n",
       "        <td>6</td>\n",
       "        <td>Ankit</td>\n",
       "        <td>50000</td>\n",
       "    </tr>\n",
       "    <tr>\n",
       "        <td>7</td>\n",
       "        <td>Riya</td>\n",
       "        <td>45000</td>\n",
       "    </tr>\n",
       "    <tr>\n",
       "        <td>8</td>\n",
       "        <td>Nishit</td>\n",
       "        <td>48000</td>\n",
       "    </tr>\n",
       "    <tr>\n",
       "        <td>9</td>\n",
       "        <td>Samay</td>\n",
       "        <td>36000</td>\n",
       "    </tr>\n",
       "    <tr>\n",
       "        <td>10</td>\n",
       "        <td>Aman</td>\n",
       "        <td>45000</td>\n",
       "    </tr>\n",
       "    <tr>\n",
       "        <td>11</td>\n",
       "        <td>Sarthak</td>\n",
       "        <td>48000</td>\n",
       "    </tr>\n",
       "    <tr>\n",
       "        <td>12</td>\n",
       "        <td>Ashutosh</td>\n",
       "        <td>50000</td>\n",
       "    </tr>\n",
       "    <tr>\n",
       "        <td>13</td>\n",
       "        <td>Harshit</td>\n",
       "        <td>40000</td>\n",
       "    </tr>\n",
       "    <tr>\n",
       "        <td>14</td>\n",
       "        <td>Ayush</td>\n",
       "        <td>30000</td>\n",
       "    </tr>\n",
       "    <tr>\n",
       "        <td>15</td>\n",
       "        <td>Shreyansh</td>\n",
       "        <td>35000</td>\n",
       "    </tr>\n",
       "    <tr>\n",
       "        <td>16</td>\n",
       "        <td>Aryan</td>\n",
       "        <td>60000</td>\n",
       "    </tr>\n",
       "    <tr>\n",
       "        <td>17</td>\n",
       "        <td>Snehal</td>\n",
       "        <td>40000</td>\n",
       "    </tr>\n",
       "    <tr>\n",
       "        <td>18</td>\n",
       "        <td>Shubham</td>\n",
       "        <td>35000</td>\n",
       "    </tr>\n",
       "    <tr>\n",
       "        <td>19</td>\n",
       "        <td>Rakshit</td>\n",
       "        <td>36000</td>\n",
       "    </tr>\n",
       "</table>"
      ],
      "text/plain": [
       "[(1, 'Vishal', 45000),\n",
       " (2, 'Rahul', 60000),\n",
       " (3, 'Anisha', 30000),\n",
       " (4, 'Saksham', 60000),\n",
       " (5, 'Aakash', 30000),\n",
       " (6, 'Ankit', 50000),\n",
       " (7, 'Riya', 45000),\n",
       " (8, 'Nishit', 48000),\n",
       " (9, 'Samay', 36000),\n",
       " (10, 'Aman', 45000),\n",
       " (11, 'Sarthak', 48000),\n",
       " (12, 'Ashutosh', 50000),\n",
       " (13, 'Harshit', 40000),\n",
       " (14, 'Ayush', 30000),\n",
       " (15, 'Shreyansh', 35000),\n",
       " (16, 'Aryan', 60000),\n",
       " (17, 'Snehal', 40000),\n",
       " (18, 'Shubham', 35000),\n",
       " (19, 'Rakshit', 36000)]"
      ]
     },
     "execution_count": 10,
     "metadata": {},
     "output_type": "execute_result"
    }
   ],
   "source": [
    "%%sql\n",
    "\n",
    "Select distinct W.ID, W.First_Name, W.Salary from Worker W, Worker W1\n",
    "where W.Salary = W1.Salary\n",
    "and W.ID != W1.ID ;"
   ]
  }
 ],
 "metadata": {
  "kernelspec": {
   "display_name": "Python 3",
   "language": "python",
   "name": "python3"
  },
  "language_info": {
   "codemirror_mode": {
    "name": "ipython",
    "version": 3
   },
   "file_extension": ".py",
   "mimetype": "text/x-python",
   "name": "python",
   "nbconvert_exporter": "python",
   "pygments_lexer": "ipython3",
   "version": "3.8.3"
  }
 },
 "nbformat": 4,
 "nbformat_minor": 4
}
