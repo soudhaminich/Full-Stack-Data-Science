{
 "cells": [
  {
   "cell_type": "code",
   "execution_count": 1,
   "metadata": {},
   "outputs": [],
   "source": [
    "%load_ext sql"
   ]
  },
  {
   "cell_type": "code",
   "execution_count": 2,
   "metadata": {},
   "outputs": [],
   "source": [
    "%sql sqlite://"
   ]
  },
  {
   "cell_type": "code",
   "execution_count": 3,
   "metadata": {},
   "outputs": [
    {
     "name": "stdout",
     "output_type": "stream",
     "text": [
      " * sqlite://\n",
      "Done.\n"
     ]
    },
    {
     "data": {
      "text/plain": [
       "[]"
      ]
     },
     "execution_count": 3,
     "metadata": {},
     "output_type": "execute_result"
    }
   ],
   "source": [
    "%%sql\n",
    "\n",
    "CREATE TABLE Worker (ID INT PRIMARY KEY  ,\n",
    "                     First_Name VARCHAR (20) NOT NULL , \n",
    "                     Last_Name VARCHAR(20) , \n",
    "                     EMAIL varchar(50) ,\n",
    "                     DEPARTMENT VARCHAR(20) NOT NULL , \n",
    "                     Salary INT , \n",
    "                     Join_Date DATE) ;"
   ]
  },
  {
   "cell_type": "code",
   "execution_count": 4,
   "metadata": {},
   "outputs": [
    {
     "name": "stdout",
     "output_type": "stream",
     "text": [
      " * sqlite://\n",
      "1 rows affected.\n",
      "1 rows affected.\n",
      "1 rows affected.\n",
      "1 rows affected.\n",
      "1 rows affected.\n",
      "1 rows affected.\n",
      "1 rows affected.\n",
      "1 rows affected.\n",
      "1 rows affected.\n",
      "1 rows affected.\n",
      "1 rows affected.\n",
      "1 rows affected.\n",
      "1 rows affected.\n",
      "1 rows affected.\n",
      "1 rows affected.\n",
      "1 rows affected.\n",
      "1 rows affected.\n",
      "1 rows affected.\n",
      "1 rows affected.\n"
     ]
    },
    {
     "data": {
      "text/plain": [
       "[]"
      ]
     },
     "execution_count": 4,
     "metadata": {},
     "output_type": "execute_result"
    }
   ],
   "source": [
    "%%sql\n",
    "\n",
    "INSERT INTO Worker Values(1,'Vishal','Rathore','vishalrathore@ineuron.com','Finance', 45000,'2018-02-12');\n",
    "INSERT INTO Worker Values(2,'Rahul','Sarathe','rahulsarathe@ineuron.com','HR', 60000,  '2017-04-17');\n",
    "INSERT INTO Worker Values(3,'Anisha','Gour','anishagour@ineuron.com','Purchase', 30000, '2017-12-20');\n",
    "INSERT INTO Worker Values(4,'Saksham','Mahajan','sakshammahajan@ineuron.com','Finance', 60000, '2019-11-12');\n",
    "INSERT INTO Worker Values(5,'Aakash','Singh','amansingh@ineuron.com','Purchase',30000,  '2017-09-05');\n",
    "INSERT INTO Worker Values(6,'Ankit','Kumar','ankitkumar@ineuron.com','Marketing', 50000,  '2020-01-14');\n",
    "INSERT INTO Worker Values(7,'Riya','Agarwal','riyaagarwal@ineuron.com','Finance', 45000, '2018-04-23');\n",
    "INSERT INTO Worker Values(8,'Nishit','Sharma','nishitsharma@ineuron.com','Purchase', 48000, '2018-10-10');\n",
    "INSERT INTO Worker Values(9,'Samay','Raina','samayraina@ineuron.com','Marketing', 36000,  '2017-08-22');\n",
    "INSERT INTO Worker Values(10,'Aman','Singh','amansingh@ineuron.com','Finance', 45000,  '2017-08-12');\n",
    "INSERT INTO Worker Values(11,'Sarthak','Jain','sarthakjain@ineuron.com','Purchase', 48000,  '2018-04-08');\n",
    "INSERT INTO Worker Values(12,'Ashutosh','Patil','ashutoshpatil@ineuron.com','PR', 50000,  '2019-09-26');\n",
    "INSERT INTO Worker Values(13,'Harshit','Kumar','harshitkumar@ineuron.com','HR', 40000,  '2018-06-05');\n",
    "INSERT INTO Worker Values(14,'Ayush','Srivastav','ayushsrivastav@ineuron.com','Purchase', 30000,  '2018-08-24');\n",
    "INSERT INTO Worker Values(15,'Shreyansh','Deriya','shreyanshderiya@ineuron.com','PR', 35000, '2017-07-13');\n",
    "INSERT INTO Worker Values(16,'Aryan','Sharma','aryansharma@ineuron.com','Finance', 60000,  '2019-10-31');\n",
    "INSERT INTO Worker Values(17,'Snehal','Reddy','snehalreddy@ineuron.com','HR', 40000, '2019-03-28');\n",
    "INSERT INTO Worker Values(18,'Shubham','Mittal','shubhammittal@ineuron.com','PR', 35000,'2020-02-01');\n",
    "INSERT INTO Worker Values(19,'Rakshit','Rao','rakshitao@ineuron.com','Marketing', 36000, '2018-11-30');"
   ]
  },
  {
   "cell_type": "markdown",
   "metadata": {},
   "source": [
    "##Q-1. Write an SQL query to print details of the Workers who have joined in Feb’2020."
   ]
  },
  {
   "cell_type": "code",
   "execution_count": 17,
   "metadata": {},
   "outputs": [
    {
     "name": "stdout",
     "output_type": "stream",
     "text": [
      " * sqlite://\n",
      "Done.\n"
     ]
    },
    {
     "data": {
      "text/html": [
       "<table>\n",
       "    <tr>\n",
       "        <th>ID</th>\n",
       "        <th>First_Name</th>\n",
       "        <th>Last_Name</th>\n",
       "        <th>EMAIL</th>\n",
       "        <th>DEPARTMENT</th>\n",
       "        <th>Salary</th>\n",
       "        <th>Join_Date</th>\n",
       "    </tr>\n",
       "</table>"
      ],
      "text/plain": [
       "[]"
      ]
     },
     "execution_count": 17,
     "metadata": {},
     "output_type": "execute_result"
    }
   ],
   "source": [
    "%%sql\n",
    "\n",
    "select * from Worker where\n",
    " strftime('%m',Join_Date) = 2 and strftime('%Y',Join_Date) = 2020;"
   ]
  },
  {
   "cell_type": "markdown",
   "metadata": {},
   "source": [
    "##Q-2. Write an SQL query to fetch duplicates  have matching data in some fields of a table.\n",
    "\n",
    "There are no duplicates in my Worker Tabl"
   ]
  },
  {
   "cell_type": "markdown",
   "metadata": {},
   "source": [
    "##Q-3. How to remove duplicate rows from Employees table.\n",
    "\n",
    "The duplicate rows can be removed by DELETE FROM syntax . "
   ]
  }
 ],
 "metadata": {
  "kernelspec": {
   "display_name": "Python 3",
   "language": "python",
   "name": "python3"
  },
  "language_info": {
   "codemirror_mode": {
    "name": "ipython",
    "version": 3
   },
   "file_extension": ".py",
   "mimetype": "text/x-python",
   "name": "python",
   "nbconvert_exporter": "python",
   "pygments_lexer": "ipython3",
   "version": "3.8.3"
  }
 },
 "nbformat": 4,
 "nbformat_minor": 4
}
