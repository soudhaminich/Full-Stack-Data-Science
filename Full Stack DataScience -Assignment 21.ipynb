{
 "cells": [
  {
   "cell_type": "markdown",
   "metadata": {},
   "source": [
    "##1. Add the current date to the text file today.txt as a string."
   ]
  },
  {
   "cell_type": "code",
   "execution_count": 1,
   "metadata": {},
   "outputs": [
    {
     "name": "stdout",
     "output_type": "stream",
     "text": [
      "2021-07-02\n"
     ]
    }
   ],
   "source": [
    "from datetime import date\n",
    "now = str(date.today())\n",
    "f= open(\"today.txt\",\"w+\")\n",
    "f.write(now)\n",
    "f = open(\"today.txt\", \"r\")\n",
    "print(f.read())\n",
    "\n",
    "\n",
    "        "
   ]
  },
  {
   "cell_type": "markdown",
   "metadata": {},
   "source": [
    "##2.Read the text file today.txt into the string today_string"
   ]
  },
  {
   "cell_type": "code",
   "execution_count": 2,
   "metadata": {},
   "outputs": [
    {
     "name": "stdout",
     "output_type": "stream",
     "text": [
      "2021-07-02\n"
     ]
    }
   ],
   "source": [
    "with open('today.txt','r') as file:\n",
    "    today_string = file.read()\n",
    "print(today_string)"
   ]
  },
  {
   "cell_type": "code",
   "execution_count": 3,
   "metadata": {},
   "outputs": [
    {
     "data": {
      "text/plain": [
       "'C:\\\\Users\\\\soudh'"
      ]
     },
     "execution_count": 3,
     "metadata": {},
     "output_type": "execute_result"
    }
   ],
   "source": [
    "pwd\n"
   ]
  },
  {
   "cell_type": "markdown",
   "metadata": {},
   "source": [
    "##3. Parse the date from today_string."
   ]
  },
  {
   "cell_type": "code",
   "execution_count": 4,
   "metadata": {},
   "outputs": [],
   "source": [
    "fmt = '%Y-%m-%d\\n'"
   ]
  },
  {
   "cell_type": "code",
   "execution_count": 5,
   "metadata": {},
   "outputs": [
    {
     "data": {
      "text/plain": [
       "datetime.datetime(2021, 7, 2, 0, 0)"
      ]
     },
     "execution_count": 5,
     "metadata": {},
     "output_type": "execute_result"
    }
   ],
   "source": [
    "import datetime\n",
    "datetime.datetime.strptime(today_string,\"%Y-%m-%d\")\n"
   ]
  },
  {
   "cell_type": "markdown",
   "metadata": {},
   "source": [
    "##4. List the files in your current directory"
   ]
  },
  {
   "cell_type": "code",
   "execution_count": 6,
   "metadata": {},
   "outputs": [
    {
     "name": "stdout",
     "output_type": "stream",
     "text": [
      "['.astropy', '.bash_history', '.conda', '.condarc', '.config', '.eclipse', '.gitconfig', '.idlerc', '.ipynb_checkpoints', '.ipython', '.jmc', '.jupyter', '.matplotlib', '.node_repl_history', '.pylint.d', '.python_history', '.rediscli_history', '.spyder-py3', '.viminfo', '.vscode', '1.html', '1.java', '153.py', '154.py', '156.py', '172.py', '175.py', '176.py', '177.py', '178.py', '180.PY', '184.py', '185.py', '210.py', '217.py', '266.py', '3D Objects', 'A.PY', 'anaconda3', 'AppData', 'Application Data', 'Contacts', 'Cookies', 'Dady-20210606T111317Z-001', 'demo', 'Desktop', 'dir', 'django', 'django_test', 'Documents', 'Downloads', 'e.py', 'ecommerce', 'edb_languagepack.exe', 'edb_mtk.exe', 'edb_npgsql.exe', 'edb_pem_agent.exe', 'edb_pem_server.exe', 'edb_pgbouncer.exe', 'edb_pgjdbc.exe', 'edb_psqlodbc.exe', 'edb_psqlodbc.exe-20200907044440', 'edb_xdb_62.exe', 'Envs', 'example', 'Favorites', 'firstclass.ipynb', 'follow_pr', 'follow_pro', 'follow_proj', 'Full Stack DataScience - Assignment 10.ipynb', 'Full Stack DataScience - Assignment 11.ipynb', 'Full Stack DataScience - Assignment 13.ipynb', 'Full Stack DataScience - Assignment 14.ipynb', 'Full Stack DataScience - Assignment 15.ipynb', 'Full Stack DataScience - Assignment 9.ipynb', 'Full Stack DataScience -Advanced Assignment 1.ipynb', 'Full Stack DataScience -Advanced Assignment 2.ipynb', 'Full Stack DataScience -Advanced Assignment 3.ipynb', 'Full Stack DataScience -Advanced Assignment 4.ipynb', 'Full Stack DataScience -Assignment 12.ipynb', 'Full Stack DataScience -Assignment 16.ipynb', 'Full Stack DataScience -Assignment 17.ipynb', 'Full Stack DataScience -Assignment 18.ipynb', 'Full Stack DataScience -Assignment 21.ipynb', 'Full Stack DataScience -Assignment 4.ipynb', 'Full Stack DataScience -Assignment 5.ipynb', 'Full Stack DataScience -Assignment 6.ipynb', 'Full Stack DataScience -Programming Assignment 4.ipynb', 'Full Stack DataScience Assignment-3.ipynb', 'Full Stack Datascience- Assignment 2.ipynb', 'Full Stack DataScience-Assignment 7.ipynb', 'Full Stack DataScience-Assignment 8.ipynb', 'FullStackDataSceince-Assignment 1.ipynb', 'guru99.txt', 'image_thumbnail.jpg', 'IntelGraphicsProfiles', 'lenovo', 'Links', 'Local Settings', 'loggin', 'logging', 'MicrosoftEdgeBackups', 'multitimes.py', 'Music', 'My Documents', 'NetHood', 'NTUSER.DAT', 'ntuser.dat.LOG1', 'ntuser.dat.LOG2', 'NTUSER.DAT{744a1c41-a1ef-11eb-8fa2-e1ee36e7c6dd}.TM.blf', 'NTUSER.DAT{744a1c41-a1ef-11eb-8fa2-e1ee36e7c6dd}.TMContainer00000000000000000001.regtrans-ms', 'NTUSER.DAT{744a1c41-a1ef-11eb-8fa2-e1ee36e7c6dd}.TMContainer00000000000000000002.regtrans-ms', 'ntuser.ini', 'OneDrive', 'p.html', 'p.py', 'pemhttpd.exe', 'Pictures', 'postgresql_10.exe', 'postgresql_10.exe-20200907044634', 'postgresql_11.exe', 'postgresql_12.exe', 'postgresql_95.exe', 'postgresql_95.exe-20200907045056', 'postgresql_96.exe', 'postgresql_96.exe-20200907045237', 'Postman', 'PrintHood', 'Programming Assignment -2.ipynb', 'Programming assignment-1.ipynb', 'Programming Assignment-3.ipynb', 'q.ipynb', 'Recent', 's', 'sai', 'sample_titanic.ipynb', 'Saved Games', 'Searches', 'SendTo', 'so', 'sou', 'Start Menu', 'Templates', 'today.txt', 'unmerge_openpyxl.py', 'Untitled.ipynb', 'untitled.txt', 'untitled0.py', 'Untitled1.ipynb', 'untitled1.py', 'Untitled10.ipynb', 'Untitled11.ipynb', 'Untitled12.ipynb', 'Untitled13.ipynb', 'Untitled14.ipynb', 'Untitled15.ipynb', 'Untitled16.ipynb', 'Untitled17.ipynb', 'Untitled18.ipynb', 'Untitled19.ipynb', 'Untitled2.ipynb', 'untitled2.py', 'Untitled20.ipynb', 'Untitled3.ipynb', 'untitled3.py', 'Untitled4.ipynb', 'untitled4.py', 'Untitled5.ipynb', 'untitled5.py', 'Untitled6.ipynb', 'untitled6.py', 'Untitled7.ipynb', 'untitled7.py', 'Untitled8.ipynb', 'untitled8.py', 'Untitled9.ipynb', 'untitled9.py', 'Videos', 'wekafiles', 'zoo.py', '__pycache__']\n"
     ]
    }
   ],
   "source": [
    "import os\n",
    "arr = os.listdir('.')\n",
    "print(arr)\n"
   ]
  },
  {
   "cell_type": "markdown",
   "metadata": {},
   "source": [
    "##5. Create a list of all of the files in your parent directory (minimum five files should be available)."
   ]
  },
  {
   "cell_type": "code",
   "execution_count": 7,
   "metadata": {},
   "outputs": [
    {
     "name": "stdout",
     "output_type": "stream",
     "text": [
      "['All Users', 'Default', 'Default User', 'desktop.ini', 'mini', 'Public', 'RedisService', 'sai', 'soudh']\n"
     ]
    }
   ],
   "source": [
    "import os\n",
    "arr = os.listdir('..')\n",
    "print(arr)"
   ]
  },
  {
   "cell_type": "markdown",
   "metadata": {},
   "source": [
    "##6. Use multiprocessing to create three separate processes. Make each one wait a random number of seconds between one and five, print the current time, and then exit."
   ]
  },
  {
   "cell_type": "code",
   "execution_count": 8,
   "metadata": {},
   "outputs": [],
   "source": [
    "import multiprocessing\n",
    "def now(seconds):\n",
    "    from datetime import datetime\n",
    "    from time import sleep\n",
    "    sleep(seconds)\n",
    "    print('wait', seconds, 'seconds, time is', datetime.utcnow())\n",
    "if __name__ == '__main__':\n",
    "    import random\n",
    "    for n in range(3):\n",
    "        seconds = random.random()\n",
    "        proc = multiprocessing.Process(target=now, args=(seconds,))\n",
    "        proc.start()\n"
   ]
  },
  {
   "cell_type": "code",
   "execution_count": 9,
   "metadata": {},
   "outputs": [],
   "source": [
    "run multitimes.py"
   ]
  },
  {
   "cell_type": "markdown",
   "metadata": {},
   "source": [
    "##7. Create a date object of your day of birth."
   ]
  },
  {
   "cell_type": "code",
   "execution_count": 15,
   "metadata": {},
   "outputs": [
    {
     "name": "stdout",
     "output_type": "stream",
     "text": [
      "2001-05-12 00:00:00\n"
     ]
    }
   ],
   "source": [
    "import datetime\n",
    "\n",
    "x = datetime.datetime(2001, 5, 12)\n",
    "\n",
    "print(x)"
   ]
  },
  {
   "cell_type": "markdown",
   "metadata": {},
   "source": [
    "##8. What day of the week was your day of birth?"
   ]
  },
  {
   "cell_type": "code",
   "execution_count": 16,
   "metadata": {},
   "outputs": [
    {
     "data": {
      "text/plain": [
       "5"
      ]
     },
     "execution_count": 16,
     "metadata": {},
     "output_type": "execute_result"
    }
   ],
   "source": [
    "x.weekday()"
   ]
  },
  {
   "cell_type": "code",
   "execution_count": 17,
   "metadata": {},
   "outputs": [
    {
     "data": {
      "text/plain": [
       "6"
      ]
     },
     "execution_count": 17,
     "metadata": {},
     "output_type": "execute_result"
    }
   ],
   "source": [
    "x.isoweekday()"
   ]
  },
  {
   "cell_type": "markdown",
   "metadata": {},
   "source": [
    "##9. When will you be (or when were you) 10,000 days old?"
   ]
  },
  {
   "cell_type": "code",
   "execution_count": 19,
   "metadata": {},
   "outputs": [
    {
     "data": {
      "text/plain": [
       "datetime.datetime(2028, 9, 27, 0, 0)"
      ]
     },
     "execution_count": 19,
     "metadata": {},
     "output_type": "execute_result"
    }
   ],
   "source": [
    " from datetime import timedelta\n",
    "day = x + timedelta(days=10000)\n",
    "day\n",
    "\n"
   ]
  },
  {
   "cell_type": "code",
   "execution_count": null,
   "metadata": {},
   "outputs": [],
   "source": []
  }
 ],
 "metadata": {
  "kernelspec": {
   "display_name": "Python 3",
   "language": "python",
   "name": "python3"
  },
  "language_info": {
   "codemirror_mode": {
    "name": "ipython",
    "version": 3
   },
   "file_extension": ".py",
   "mimetype": "text/x-python",
   "name": "python",
   "nbconvert_exporter": "python",
   "pygments_lexer": "ipython3",
   "version": "3.8.3"
  }
 },
 "nbformat": 4,
 "nbformat_minor": 4
}
