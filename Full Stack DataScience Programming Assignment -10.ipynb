{
 "cells": [
  {
   "cell_type": "markdown",
   "metadata": {},
   "source": [
    "##Write a Python program to find sum of elements in list?"
   ]
  },
  {
   "cell_type": "code",
   "execution_count": 2,
   "metadata": {},
   "outputs": [
    {
     "name": "stdout",
     "output_type": "stream",
     "text": [
      "How many numbers: 5\n",
      "Enter numbers: 12\n",
      "Enter numbers: 34\n",
      "Enter numbers: 21\n",
      "Enter numbers: 56\n",
      "Enter numbers: 2\n",
      "Sum of numbers in list:  125\n"
     ]
    }
   ],
   "source": [
    "num=int(input(\"How many numbers: \"));\n",
    "ListSum=[]\n",
    "for n in range(num):\n",
    "    numbers=int(input(\"Enter numbers: \"));\n",
    "    ListSum.append(numbers)\n",
    "print(\"Sum of numbers in list: \",sum(ListSum))"
   ]
  },
  {
   "cell_type": "markdown",
   "metadata": {},
   "source": [
    "##Write a Python program to  Multiply all numbers in the list?"
   ]
  },
  {
   "cell_type": "code",
   "execution_count": 3,
   "metadata": {},
   "outputs": [
    {
     "name": "stdout",
     "output_type": "stream",
     "text": [
      "[11, 12, 4, 3]\n",
      "product: \n",
      "1584\n"
     ]
    }
   ],
   "source": [
    "def mul_list(list) :\n",
    "     \n",
    "    # Multiply elements one by one\n",
    "    product = 1\n",
    "    for i in list:\n",
    "         product = product * i\n",
    "    return product\n",
    "     \n",
    "\n",
    "list1 = [11, 12, 4, 3]\n",
    "print(list1)\n",
    "print(\"product: \") \n",
    "print(mul_list(list1))"
   ]
  },
  {
   "cell_type": "markdown",
   "metadata": {},
   "source": [
    "##Write a Python program to find smallest number in a list?"
   ]
  },
  {
   "cell_type": "code",
   "execution_count": 4,
   "metadata": {},
   "outputs": [
    {
     "name": "stdout",
     "output_type": "stream",
     "text": [
      "Smallest number in the list is : 18.\n"
     ]
    }
   ],
   "source": [
    "a = [18, 52, 23, 41, 32]\n",
    "\n",
    "# find smallest number using min() function\n",
    "smallest = min(a)\n",
    "\n",
    "# print the smallest number\n",
    "print(f'Smallest number in the list is : {smallest}.')"
   ]
  },
  {
   "cell_type": "markdown",
   "metadata": {},
   "source": [
    "##Write a Python program to find largest number in a list?"
   ]
  },
  {
   "cell_type": "code",
   "execution_count": 5,
   "metadata": {},
   "outputs": [
    {
     "name": "stdout",
     "output_type": "stream",
     "text": [
      "largest number in the list is : 52.\n"
     ]
    }
   ],
   "source": [
    "a = [18, 52, 23, 41, 32]\n",
    "\n",
    "\n",
    "largest= max(a)\n",
    "\n",
    "# print the smallest number\n",
    "print(f'largest number in the list is : {largest}.')"
   ]
  },
  {
   "cell_type": "markdown",
   "metadata": {},
   "source": [
    "##Write a Python program to find second largest number in a list?"
   ]
  },
  {
   "cell_type": "code",
   "execution_count": 9,
   "metadata": {},
   "outputs": [
    {
     "name": "stdout",
     "output_type": "stream",
     "text": [
      "Enter size of list 4\n",
      "Enter element of list 12\n",
      "Enter element of list 34\n",
      "Enter element of list 56\n",
      "Enter element of list 21\n",
      "second largest in  [12, 34, 56, 21] is\n",
      "34\n"
     ]
    }
   ],
   "source": [
    "def second_largest(list):\n",
    "    list.sort()\n",
    "    return list[-2]\n",
    "\n",
    "#input of list\n",
    "li=[]\n",
    "n=int(input(\"Enter size of list \"))\n",
    "for i in range(0,n):\n",
    "    e=int(input(\"Enter element of list \"))\n",
    "    li.append(e)\n",
    "\n",
    "#smallest\n",
    "print(\"second largest in \",li,\"is\")\n",
    "print(second_largest(li))     "
   ]
  },
  {
   "cell_type": "markdown",
   "metadata": {},
   "source": [
    "##Write a Python program to find N largest elements from a list?"
   ]
  },
  {
   "cell_type": "code",
   "execution_count": 12,
   "metadata": {},
   "outputs": [
    {
     "name": "stdout",
     "output_type": "stream",
     "text": [
      "3 max elements in  [2, 6, 41, 85, 0, 3, 7, 6, 10]\n",
      "[85, 41, 10]\n"
     ]
    }
   ],
   "source": [
    "def N_max_elements(list, N):\n",
    "    result_list = []\n",
    "  \n",
    "    for i in range(0, N): \n",
    "        maximum = 0\n",
    "          \n",
    "        for j in range(len(list)):     \n",
    "            if list[j] > maximum:\n",
    "                maximum = list[j]\n",
    "                  \n",
    "        list.remove(maximum)\n",
    "        result_list.append(maximum)\n",
    "          \n",
    "    return result_list\n",
    "\n",
    "list1 = [2, 6, 41, 85, 0, 3, 7, 6, 10]\n",
    "N = 3\n",
    "\n",
    "print(N, \"max elements in \",list1)\n",
    "  \n",
    "# Calling and printing the function\n",
    "print(N_max_elements(list1, N))"
   ]
  },
  {
   "cell_type": "markdown",
   "metadata": {},
   "source": [
    "##Write a Python program to print even numbers in a list?"
   ]
  },
  {
   "cell_type": "code",
   "execution_count": 17,
   "metadata": {},
   "outputs": [
    {
     "name": "stdout",
     "output_type": "stream",
     "text": [
      "Enter size of list 6\n",
      "Enter element of list 12\n",
      "Enter element of list 3\n",
      "Enter element of list 5\n",
      "Enter element of list 7\n",
      "Enter element of list 9\n",
      "Enter element of list 1\n",
      "Even numbers in  [12, 3, 5, 7, 9, 1]\n",
      "[12]\n"
     ]
    }
   ],
   "source": [
    "def even(list):\n",
    "    new_list=[]\n",
    "    for i in list:\n",
    "        if i%2==0:               \n",
    "            new_list.append(i)\n",
    "    return new_list\n",
    "\n",
    "#input\n",
    "li=[]\n",
    "n=int(input(\"Enter size of list \"))\n",
    "for i in range(0,n):\n",
    "    e=int(input(\"Enter element of list \"))\n",
    "    li.append(e)\n",
    "\n",
    "print(\"Even numbers in \",li)\n",
    "print(even(li))"
   ]
  },
  {
   "cell_type": "markdown",
   "metadata": {},
   "source": [
    "##Write a Python program to print odd numbers in a List?"
   ]
  },
  {
   "cell_type": "code",
   "execution_count": 13,
   "metadata": {},
   "outputs": [
    {
     "name": "stdout",
     "output_type": "stream",
     "text": [
      "Enter size of list 5\n",
      "Enter element of list 12\n",
      "Enter element of list 3\n",
      "Enter element of list 7\n",
      "Enter element of list 43\n",
      "Enter element of list 18\n",
      "Odd numbers in  [12, 3, 7, 43, 18]\n",
      "[3, 7, 43]\n"
     ]
    }
   ],
   "source": [
    "def odd(list):\n",
    "    new_list=[]\n",
    "    for i in list:\n",
    "        if i%2!=0:               \n",
    "            new_list.append(i)\n",
    "    return new_list\n",
    "\n",
    "#input\n",
    "li=[]\n",
    "n=int(input(\"Enter size of list \"))\n",
    "for i in range(0,n):\n",
    "    e=int(input(\"Enter element of list \"))\n",
    "    li.append(e)\n",
    "\n",
    "print(\"Odd numbers in \",li)\n",
    "print(odd(li))"
   ]
  },
  {
   "cell_type": "markdown",
   "metadata": {},
   "source": [
    "##Write a Python program to Remove empty List from List?"
   ]
  },
  {
   "cell_type": "code",
   "execution_count": 14,
   "metadata": {},
   "outputs": [
    {
     "name": "stdout",
     "output_type": "stream",
     "text": [
      "The original list is : [1, [], 2, 3, [], 4, 5, [], [], 9]\n",
      "List after empty list removal : [1, 2, 3, 4, 5, 9]\n"
     ]
    }
   ],
   "source": [
    "myList = [1, [], 2, 3, [], 4, 5, [], [], 9]\n",
    "\n",
    "# printing original list\n",
    "print(\"The original list is : \" + str(myList))\n",
    "\n",
    "# Remove empty List from List\n",
    "result = list(filter(None, myList))\n",
    "\n",
    "# printing result\n",
    "print (\"List after empty list removal : \" + str(result))"
   ]
  },
  {
   "cell_type": "markdown",
   "metadata": {},
   "source": [
    "##Write a Python program to Cloning or Copying a list?"
   ]
  },
  {
   "cell_type": "code",
   "execution_count": 15,
   "metadata": {},
   "outputs": [
    {
     "name": "stdout",
     "output_type": "stream",
     "text": [
      "Enter size of list 5\n",
      "Enter element of list 2\n",
      "Enter element of list 34\n",
      "Enter element of list 5\n",
      "Enter element of list 7\n",
      "Enter element of list 9\n",
      "Original list:  [2, 34, 5, 7, 9]\n",
      "After cloning:  [2, 34, 5, 7, 9]\n"
     ]
    }
   ],
   "source": [
    "li=[]\n",
    "n=int(input(\"Enter size of list \"))\n",
    "for i in range(0,n):\n",
    "    e=int(input(\"Enter element of list \"))\n",
    "    li.append(e)\n",
    "print(\"Original list: \",li)\n",
    "\n",
    "#cloning\n",
    "list_copy = li[:]\n",
    "print(\"After cloning: \",list_copy)"
   ]
  },
  {
   "cell_type": "markdown",
   "metadata": {},
   "source": [
    "##Write a Python program to Count occurrences of an element in a list?"
   ]
  },
  {
   "cell_type": "code",
   "execution_count": 16,
   "metadata": {},
   "outputs": [
    {
     "name": "stdout",
     "output_type": "stream",
     "text": [
      "Enter size of list 4\n",
      "Enter element of list 2\n",
      "Enter element of list 2\n",
      "Enter element of list 3\n",
      "Enter element of list 2\n",
      "Original list:  [2, 2, 3, 2]\n",
      "Enter element to be checked list: 2\n",
      "2  has occurred  3 times\n"
     ]
    }
   ],
   "source": [
    "def count_occurrence(list, n):\n",
    "    \n",
    "#counter variable\n",
    "    count=0\n",
    "    for i in list:\n",
    "        if(i==n):\n",
    "          #update counter variable\n",
    "            count=count+1\n",
    "    return count\n",
    "\n",
    "#input list\n",
    "li=[]\n",
    "n=int(input(\"Enter size of list \"))\n",
    "for i in range(0,n):\n",
    "    e=int(input(\"Enter element of list \"))\n",
    "    li.append(e)\n",
    "print(\"Original list: \",li)\n",
    "\n",
    "x=int(input(\"Enter element to be checked list: \"))\n",
    "\n",
    "#function call\n",
    "print(x,\" has occurred \",count_occurrence(li, x),\"times\")"
   ]
  }
 ],
 "metadata": {
  "kernelspec": {
   "display_name": "Python 3",
   "language": "python",
   "name": "python3"
  },
  "language_info": {
   "codemirror_mode": {
    "name": "ipython",
    "version": 3
   },
   "file_extension": ".py",
   "mimetype": "text/x-python",
   "name": "python",
   "nbconvert_exporter": "python",
   "pygments_lexer": "ipython3",
   "version": "3.8.3"
  }
 },
 "nbformat": 4,
 "nbformat_minor": 4
}
