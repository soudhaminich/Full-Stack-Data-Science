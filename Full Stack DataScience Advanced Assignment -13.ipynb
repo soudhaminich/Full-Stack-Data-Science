{
 "cells": [
  {
   "cell_type": "markdown",
   "metadata": {},
   "source": [
    "##Q1. Can you create a programme or function that employs both positive and negative indexing? Is there any repercussion if you do so?\n",
    "\n",
    " Python arrays & list items can be accessed with positive or negative numbers (also known as index). - For instance our array/list is of size n, then for positive index 0 is the first index, 1 second, last index will be n-1. For negative index, -n is the first index, -(n-1) second, last negative index will be – 1.\n",
    " There is no repercussion\n",
    "\n",
    "##Q2. What is the most effective way of starting with 1,000 elements in a Python list? Assume that all elements should be set to the same value.\n",
    "\n",
    "Using the * operator\n",
    "The * operator can be used as [object] * n where n is the no of elements in the array.\n",
    "\n",
    "arr = [0]* 1000\n",
    "\n",
    "##Q3. How do you slice a list to get any other part while missing the rest? (For example, suppose you want to make a new list with the elements first, third, fifth, seventh, and so on.)\n",
    "\n",
    "use list.extend() or list.append()\n",
    "Use itertools.chain() to combine many lists\n",
    "\n",
    "\n",
    "\n",
    "##Q4. Explain the distinctions between indexing and slicing.\n",
    "\n",
    "“Indexing” means referring to an element of an iterable by its position within the iterable. “Slicing” means getting a subset of elements from an iterable based on their indices.\n",
    "\n",
    "Indexing starts from 0. Index 0 represents the first element in the sequence.Negative indexing starts from -1. Index -1 represents the last element in the sequence.\n",
    "\n",
    "Slicing (Range Of Indexes):We can specify a range of indexes\n",
    ".\n",
    "s[i:j:k] — slice of s from i to j with step k\n",
    "\n",
    "\n",
    "##Q5. What happens if one of the slicing expression's indexes is out of range?\n",
    "\n",
    "The slicing operation doesn't raise an error if both your start and stop indices are larger than the sequence length. This is in contrast to simple indexing if you index an element that is out of bounds, Python will throw an index out of bounds error. However, with slicing it simply returns an empty sequence.\n",
    "\n",
    "##Q6. If you pass a list to a function, and if you want the function to be able to change the values of the list—so that the list is different after the function returns—what action should you avoid?\n",
    "\n",
    "Your lists get modified because lists are mutable objects that are capable of being modified, and you modify them \n",
    "\n",
    "Objects are not copied when you pass them to a function. Any modification you make to the object is visible outside the function.\n",
    "\n",
    "\n",
    "##Q7. What is the concept of an unbalanced matrix?\n",
    "\n",
    "A matrix is balanced if all cells in the matrix are balanced and a cell of the matrix is balanced if the number of cells in that matrix that are adjacent to that cell is strictly greater than the value written in this cell. ... Explanation: Each cell of the given grid is not stable, so the overall grid is unbalanced.\n",
    "\n",
    "\n",
    "##Q8. Why is it necessary to use either list comprehension or a loop to create arbitrarily large matrices?\n",
    "\n",
    "\n",
    "List comprehensions are often not only more readable but also faster than using “for loops.” They can simplify your code, but if you put too much logic inside, they will instead become harder to read and understand."
   ]
  },
  {
   "cell_type": "code",
   "execution_count": null,
   "metadata": {},
   "outputs": [],
   "source": []
  }
 ],
 "metadata": {
  "kernelspec": {
   "display_name": "Python 3",
   "language": "python",
   "name": "python3"
  },
  "language_info": {
   "codemirror_mode": {
    "name": "ipython",
    "version": 3
   },
   "file_extension": ".py",
   "mimetype": "text/x-python",
   "name": "python",
   "nbconvert_exporter": "python",
   "pygments_lexer": "ipython3",
   "version": "3.8.3"
  }
 },
 "nbformat": 4,
 "nbformat_minor": 4
}
