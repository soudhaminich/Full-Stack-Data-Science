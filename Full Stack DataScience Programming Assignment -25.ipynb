{
 "cells": [
  {
   "cell_type": "markdown",
   "metadata": {},
   "source": [
    "##Question1\n",
    "\n",
    "Create a function that takes three integer arguments (a, b, c) and returns the amount of integers which are of equal value.\n",
    "\n",
    "Examples\n",
    "\n",
    "equal(3, 4, 3) ➞ 2\n",
    "\n",
    "equal(1, 1, 1) ➞ 3\n",
    "\n",
    "equal(3, 4, 1) ➞ 0 \n",
    "\n",
    "Notes\n",
    "\n",
    "Your function must return 0, 2 or 3."
   ]
  },
  {
   "cell_type": "code",
   "execution_count": 8,
   "metadata": {},
   "outputs": [
    {
     "name": "stdout",
     "output_type": "stream",
     "text": [
      "3\n",
      "4\n",
      "1\n",
      "0\n"
     ]
    }
   ],
   "source": [
    "a=int(input())\n",
    "b=int(input())\n",
    "c=int(input())\n",
    "if a==b==c:\n",
    "    print(\"3\")\n",
    "elif a!=b:\n",
    "    if(a!=c):\n",
    "        print(\"0\")\n",
    "else:\n",
    "    print(\"2\")"
   ]
  },
  {
   "cell_type": "markdown",
   "metadata": {},
   "source": [
    "##Question2\n",
    "\n",
    "Write a function that converts a dictionary into a list of keys-values tuples.\n",
    "\n",
    "Examples\n",
    "\n",
    "dict_to_list({\n",
    "  \n",
    "    \"D\": 1,\n",
    "  \n",
    "    \"B\": 2,\n",
    " \n",
    "    \"C\": 3\n",
    "\n",
    "}) ➞ [(\"B\", 2), (\"C\", 3), (\"D\", 1)]\n",
    "\n",
    "dict_to_list({\n",
    " \n",
    "    \"likes\": 2,\n",
    "  \n",
    "    \"dislikes\": 3,\n",
    " \n",
    "    \"followers\": 10\n",
    "\n",
    "}) ➞ [(\"dislikes\", 3), (\"followers\", 10), (\"likes\", 2)]\n",
    "\n",
    "Notes\n",
    "\n",
    "Return the elements in the list in alphabetical order."
   ]
  },
  {
   "cell_type": "code",
   "execution_count": 9,
   "metadata": {},
   "outputs": [
    {
     "name": "stdout",
     "output_type": "stream",
     "text": [
      "[('B', 2), ('C', 3), ('D', 1)]\n"
     ]
    }
   ],
   "source": [
    "a_dictionary ={\n",
    "  \n",
    "    \"D\": 1,\n",
    "  \n",
    "    \"B\": 2,\n",
    " \n",
    "    \"C\": 3\n",
    "\n",
    "}\n",
    "\n",
    "a_view = a_dictionary.items()\n",
    "a_list = list(a_view)\n",
    "\n",
    "print(sorted(a_list))"
   ]
  },
  {
   "cell_type": "markdown",
   "metadata": {},
   "source": [
    "##Question3\n",
    "\n",
    "Write a function that creates a dictionary with each (key, value) pair being the (lower case, upper case) versions of a letter, respectively.\n",
    "\n",
    "Examples\n",
    "\n",
    "mapping([\"p\", \"s\"]) ➞ { \"p\": \"P\", \"s\": \"S\" }\n",
    "\n",
    "mapping([\"a\", \"b\", \"c\"]) ➞ { \"a\": \"A\", \"b\": \"B\", \"c\": \"C\" }\n",
    "\n",
    "mapping([\"a\", \"v\", \"y\", \"z\"]) ➞ { \"a\": \"A\", \"v\": \"V\", \"y\": \"Y\", \"z\": \"Z\" }\n",
    "\n",
    "Notes\n",
    "\n",
    "All of the letters in the input list will always be lowercase."
   ]
  },
  {
   "cell_type": "code",
   "execution_count": 12,
   "metadata": {},
   "outputs": [
    {
     "name": "stdout",
     "output_type": "stream",
     "text": [
      "{'p': 'P', 's': 'S'}\n"
     ]
    }
   ],
   "source": [
    "l=[\"p\",\"s\"]\n",
    "lower_to_upper = {\n",
    "    letter: letter.upper()\n",
    "    for letter in l\n",
    "}\n",
    "print(lower_to_upper)"
   ]
  },
  {
   "cell_type": "markdown",
   "metadata": {},
   "source": [
    "##Question4\n",
    "\n",
    "Write a function, that replaces all vowels in a string with a specified vowel.\n",
    "\n",
    "Examples\n",
    "\n",
    "vow_replace(\"apples and bananas\", \"u\") ➞ \"upplus und bununus\"\n",
    "\n",
    "vow_replace(\"cheese casserole\", \"o\") ➞ \"chooso cossorolo\"\n",
    "\n",
    "vow_replace(\"stuffed jalapeno poppers\", \"e\") ➞ \"steffed jelepene peppers\"\n",
    "\n",
    "Notes\n",
    "\n",
    "All words will be lowercase. Y is not considered a vowel."
   ]
  },
  {
   "cell_type": "code",
   "execution_count": 14,
   "metadata": {},
   "outputs": [
    {
     "name": "stdout",
     "output_type": "stream",
     "text": [
      "apples and bananas\n",
      "enter any vowel:u\n",
      "After replacing vowels with the specified character: upplus und bununus\n"
     ]
    }
   ],
   "source": [
    "def replaceVowelsWithK(test_str, K):\n",
    " \n",
    "   \n",
    "    vowels = 'AEIOUaeiou'\n",
    " \n",
    "  \n",
    "    for ele in vowels:\n",
    " \n",
    "       \n",
    "        test_str = test_str.replace(ele, K)\n",
    " \n",
    "    return test_str\n",
    " \n",
    " \n",
    "   \n",
    "\n",
    "input_str = input()\n",
    " \n",
    "\n",
    "K = input(\"enter any vowel:\")\n",
    " \n",
    "# printing input\n",
    "\n",
    "print(\"After replacing vowels with the specified character:\",\n",
    "      replaceVowelsWithK(input_str, K))"
   ]
  },
  {
   "cell_type": "markdown",
   "metadata": {},
   "source": [
    "##Question5\n",
    "\n",
    "Create a function that takes a string as input and capitalizes a letter if its ASCII code is even and returns its lower case version if its ASCII code is odd.\n",
    "\n",
    "Examples\n",
    "\n",
    "ascii_capitalize(\"to be or not to be!\") ➞ \"To Be oR NoT To Be!\"\n",
    "\n",
    "ascii_capitalize(\"THE LITTLE MERMAID\") ➞ \"THe LiTTLe meRmaiD\"\n",
    "\n",
    "ascii_capitalize(\"Oh what a beautiful morning.\") ➞ \"oH wHaT a BeauTiFuL moRNiNg.\""
   ]
  },
  {
   "cell_type": "code",
   "execution_count": 17,
   "metadata": {},
   "outputs": [
    {
     "name": "stdout",
     "output_type": "stream",
     "text": [
      "to be or not to be!\n"
     ]
    },
    {
     "data": {
      "text/plain": [
       "'To Be oR NoT To Be!'"
      ]
     },
     "execution_count": 17,
     "metadata": {},
     "output_type": "execute_result"
    }
   ],
   "source": [
    "def my_func(st):\n",
    "\n",
    "    res = []\n",
    "    #Iterate over the character\n",
    "    for index in range(len(st)):\n",
    "        if ord(st[index])%2== 0:\n",
    "            #Refer to each character via index and append modified character to list\n",
    "            res.append(st[index].upper())\n",
    "        else:\n",
    "            res.append(st[index].lower())\n",
    "\n",
    "    #Join the list into a string and return\n",
    "    return ''.join(res)\n",
    "st=input()\n",
    "my_func(st)"
   ]
  },
  {
   "cell_type": "code",
   "execution_count": 18,
   "metadata": {},
   "outputs": [
    {
     "data": {
      "text/plain": [
       "'THe LiTTLe meRmaiD'"
      ]
     },
     "execution_count": 18,
     "metadata": {},
     "output_type": "execute_result"
    }
   ],
   "source": [
    "st=\"THE LITTLE MERMAID\"\n",
    "my_func(st)"
   ]
  }
 ],
 "metadata": {
  "kernelspec": {
   "display_name": "Python 3",
   "language": "python",
   "name": "python3"
  },
  "language_info": {
   "codemirror_mode": {
    "name": "ipython",
    "version": 3
   },
   "file_extension": ".py",
   "mimetype": "text/x-python",
   "name": "python",
   "nbconvert_exporter": "python",
   "pygments_lexer": "ipython3",
   "version": "3.8.3"
  }
 },
 "nbformat": 4,
 "nbformat_minor": 4
}
