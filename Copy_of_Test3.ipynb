{
  "nbformat": 4,
  "nbformat_minor": 0,
  "metadata": {
    "colab": {
      "name": "Copy of Test3.ipynb",
      "provenance": [],
      "collapsed_sections": [],
      "include_colab_link": true
    },
    "kernelspec": {
      "name": "python3",
      "display_name": "Python 3"
    },
    "language_info": {
      "name": "python"
    }
  },
  "cells": [
    {
      "cell_type": "markdown",
      "metadata": {
        "id": "view-in-github",
        "colab_type": "text"
      },
      "source": [
        "<a href=\"https://colab.research.google.com/github/soudhaminich/Full-Stack-Data-Science/blob/main/Copy_of_Test3.ipynb\" target=\"_parent\"><img src=\"https://colab.research.google.com/assets/colab-badge.svg\" alt=\"Open In Colab\"/></a>"
      ]
    },
    {
      "cell_type": "markdown",
      "metadata": {
        "id": "7tznV8YDNtpv"
      },
      "source": [
        "1. Write a Python Program to sort (ascending and descending) a dictionary by value. \n",
        "\n"
      ]
    },
    {
      "cell_type": "code",
      "metadata": {
        "id": "UCjky1XQNl7O"
      },
      "source": [
        "x={'aswin':20,'kumar':23,'gokul':25,'mohan':45} \n",
        "                                         \n",
        "l=list(x.items())   \n",
        "l.sort()            \n",
        "print('Ascending order is',l) \n",
        "\n",
        "l=list(x.items())\n",
        "l.sort(reverse=True) \n",
        "print('Descending order is',l)\n",
        "\n",
        "dict=dict(l) \n",
        "print(\"Dictionary\",dict) "
      ],
      "execution_count": null,
      "outputs": []
    },
    {
      "cell_type": "markdown",
      "metadata": {
        "id": "ynRI4KlDPrFK"
      },
      "source": [
        " 2.Write a Python Program to add a key to a dictionary. "
      ]
    },
    {
      "cell_type": "code",
      "metadata": {
        "colab": {
          "base_uri": "https://localhost:8080/"
        },
        "id": "08sV_KxiODRP",
        "outputId": "e020d3c6-7935-4bd6-d4bd-faca96a4b613"
      },
      "source": [
        "my_dict = {0: 10, 1: 20}\n",
        "#add the key to the my_dict\n",
        "my_dict[2]= 30\n",
        "print(my_dict)"
      ],
      "execution_count": null,
      "outputs": [
        {
          "output_type": "stream",
          "text": [
            "{0: 10, 1: 20, 2: 30}\n"
          ],
          "name": "stdout"
        }
      ]
    },
    {
      "cell_type": "markdown",
      "metadata": {
        "id": "8348I_W3NnbU"
      },
      "source": [
        ""
      ]
    },
    {
      "cell_type": "markdown",
      "metadata": {
        "id": "2gM7mdTeQ3QH"
      },
      "source": [
        " 3. Write a  program asks for City name and Temperature and builds a dictionary using that Later on you can input City name and it will tell you the Temperature of that City."
      ]
    },
    {
      "cell_type": "code",
      "metadata": {
        "colab": {
          "base_uri": "https://localhost:8080/"
        },
        "id": "CUYpQ_W0Nogn",
        "outputId": "a1d69bf4-00e7-439e-ac36-e443940c6bfb"
      },
      "source": [
        "my_dict={}\n",
        "info = False\n",
        "count= int(input(\"How many cities you want to print: \"))\n",
        "while info is not True:\n",
        "    for number in range(count):\n",
        "        city= input(\"Enter the city name: \")\n",
        "        temp= int(input(\"Enter the temp: \"))\n",
        "        my_dict[city]= temp\n",
        "        my_dict.update()\n",
        "        info = True\n",
        "    break\n",
        "\n",
        "print(\"your details is \",my_dict)\n",
        "City = input(\"which city do you want know about?: \")\n",
        "print(my_dict[city])\n",
        "\n",
        "\n",
        "\n",
        "\n"
      ],
      "execution_count": null,
      "outputs": [
        {
          "output_type": "stream",
          "text": [
            "How many cities you want to print: 2\n",
            "Enter the city name: nkl\n",
            "Enter the temp: 23\n",
            "Enter the city name: cbe\n",
            "Enter the temp: 34\n",
            "your details is  {'nkl': 23, 'cbe': 34}\n",
            "which city do you want know about?: slm\n",
            "34\n"
          ],
          "name": "stdout"
        }
      ]
    },
    {
      "cell_type": "markdown",
      "metadata": {
        "id": "lLggvELjNqIt"
      },
      "source": [
        ""
      ]
    },
    {
      "cell_type": "markdown",
      "metadata": {
        "id": "obldTrvFBUvC"
      },
      "source": [
        " 4.Write a Python program to convert list to list of dictionaries."
      ]
    },
    {
      "cell_type": "code",
      "metadata": {
        "colab": {
          "base_uri": "https://localhost:8080/"
        },
        "id": "6xo4JMTmBWT9",
        "outputId": "ce09e65f-39f5-41fe-cd4f-3de36518176c"
      },
      "source": [
        "test_list = [\"Black\", \"Red\", \"Maroon\", \"Yellow\"],[\"#000000\", \"#FF0000\", \"#800000\", \"#FFFF00\"]\n",
        "print(test_list)\n",
        "  \n",
        "# printing original list\n",
        "\n",
        "  \n",
        "# initializing key list \n",
        "key_list = [\"color_name\", \"color_code\"]\n",
        "  \n",
        "# loop to iterate through elements\n",
        "# using dictionary comprehension\n",
        "# for dictionary construction\n",
        "n = len(test_list)\n",
        "res = []\n",
        "for idx in range(0, n, 2):\n",
        "    res.append({key_list[0]: test_list[idx], key_list[1] : test_list[idx + 1]})\n",
        "  \n",
        "# printing result \n",
        "print(\"The constructed dictionary list : \" + str(res))"
      ],
      "execution_count": null,
      "outputs": [
        {
          "output_type": "stream",
          "text": [
            "(['Black', 'Red', 'Maroon', 'Yellow'], ['#000000', '#FF0000', '#800000', '#FFFF00'])\n",
            "The constructed dictionary list : [{'color_name': ['Black', 'Red', 'Maroon', 'Yellow'], 'color_code': ['#000000', '#FF0000', '#800000', '#FFFF00']}]\n"
          ],
          "name": "stdout"
        }
      ]
    },
    {
      "cell_type": "markdown",
      "metadata": {
        "id": "jR9QOeZEDCby"
      },
      "source": [
        "5.We have following information on Employees and their Salary (Salary is in lakhs)"
      ]
    },
    {
      "cell_type": "code",
      "metadata": {
        "colab": {
          "base_uri": "https://localhost:8080/"
        },
        "id": "d1DdmPobDDKn",
        "outputId": "e7fbc5b0-8069-4e7e-99d3-2a1e2211e1a5"
      },
      "source": [
        "dict_1 = {'john':14,'smith':13,'Alice':32,'daniel':21}\n",
        "user = input(\"Enter the next step you want to do? print/add/remove: \")\n",
        "if user == 'print':\n",
        "  for key, value in dict_1.items():\n",
        "    print(key, ' : ', value)\n",
        "elif user == 'add':\n",
        "  user_1 = input(\"Enter the name you want to add: \")\n",
        "  if user_1 in dict_1:\n",
        "    user_1=input(\"Oops you've entered the wrong name! type another number:\")\n",
        "    salary= int(input(\"Enter the salary you want to add:  \"))\n",
        "    dict_1[user_1]= salary\n",
        "    print(dict_1)\n",
        "  else:\n",
        "    salary= int(input(\"Enter the salary you want to add:  \"))\n",
        "    dict_1[user_1]= salary\n",
        "    print(dict_1)\n",
        "elif user=='remove':\n",
        "  delete= input(\"Which name would you like to remove: \")\n",
        "  del dict_1[delete]\n",
        "  print(dict_1)\n",
        "else:\n",
        "  query= input(\"Which employee you want to query?:\")\n",
        "  for query in dict_1:\n",
        "    print(\"Salary is: \",dict_1[query])"
      ],
      "execution_count": null,
      "outputs": [
        {
          "output_type": "stream",
          "text": [
            "Enter the next step you want to do? print/add/remove: query\n",
            "Which employee you want to query?:smith\n",
            "Salary is:  14\n",
            "Salary is:  13\n",
            "Salary is:  32\n",
            "Salary is:  21\n"
          ],
          "name": "stdout"
        }
      ]
    },
    {
      "cell_type": "code",
      "metadata": {
        "id": "bI8y8myrdRzb"
      },
      "source": [
        ""
      ],
      "execution_count": null,
      "outputs": []
    },
    {
      "cell_type": "markdown",
      "metadata": {
        "id": "GY511ZU_7Qc4"
      },
      "source": [
        "6.What is the difference between a set and a frozenset? Create any set and try to use frozenset(setname)."
      ]
    },
    {
      "cell_type": "code",
      "metadata": {
        "id": "2ztwgg6k7Svn"
      },
      "source": [
        "#Frozen set is just an immutable version of a Python set object. While elements of a set can be modified at any time, elements of the frozen set remain the same after creation. Due to this, frozen sets can be used as keys in Dictionary or as elements of another set.\n",
        "\n",
        "#code for the frozen set\n",
        "number = (0,1, 2, 3, 4, 5, 6, 7, 8, 9)\n",
        "fnum = frozenset(number)\n",
        "print(\"frozenset  is : \", fnum)\n"
      ],
      "execution_count": null,
      "outputs": []
    },
    {
      "cell_type": "markdown",
      "metadata": {
        "id": "tnWG9gK29V56"
      },
      "source": [
        "7. Find the elements in a given set that are not in another set"
      ]
    },
    {
      "cell_type": "code",
      "metadata": {
        "colab": {
          "base_uri": "https://localhost:8080/"
        },
        "id": "_zeI8X2d9WfW",
        "outputId": "ea218625-f3fd-4a0d-b9a6-13d9a71c9c8b"
      },
      "source": [
        "set1 = {10,20,30,40,50}\n",
        "set2 = {40,50,60,70,80} \n",
        "main_list = [item for item in set1 if item not in set2]\n",
        "main_list\n"
      ],
      "execution_count": null,
      "outputs": [
        {
          "output_type": "execute_result",
          "data": {
            "text/plain": [
              "[10, 20, 30]"
            ]
          },
          "metadata": {
            "tags": []
          },
          "execution_count": 19
        }
      ]
    },
    {
      "cell_type": "code",
      "source": [
        "hello"
      ],
      "metadata": {
        "id": "Zgc7Bh4KznRy"
      },
      "execution_count": null,
      "outputs": []
    }
  ]
}