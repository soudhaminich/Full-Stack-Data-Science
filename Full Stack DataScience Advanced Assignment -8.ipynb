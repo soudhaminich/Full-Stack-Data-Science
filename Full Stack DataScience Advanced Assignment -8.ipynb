{
 "cells": [
  {
   "cell_type": "markdown",
   "metadata": {},
   "source": [
    "##Q1. What are the two latest user-defined exception constraints in Python 3.X?\n",
    "\n",
    "Value Error\n",
    "\n",
    "Transition Error\n",
    "\n",
    "Network Error\n",
    "\n",
    "\n",
    "##Q2. How are class-based exceptions that have been raised matched to handlers?\n",
    "\n",
    "The exceptions that can be handled are class-based and can be handled between TRY and ENDTRY. The associated exception classes are predefined in the system and begin with the prefix CX_SY_, such as CX_SY_ZERODIVIDE. In the ABAP keyword documentation, the exception classes whose exceptions may occur when a corresponding ABAP statement is executed are listed for each keyword. \n",
    "\n",
    "##Q3. Describe two methods for attaching context information to exception artefacts.\n",
    "\n",
    "1.Wrap the exception with another exception\n",
    "\n",
    "2.Use the Data property\n",
    "\n",
    "##Q4. Describe two methods for specifying the text of an exception object's error message.\n",
    " \n",
    "The two methods used are:\n",
    "\n",
    "##repr(e)\n",
    "\n",
    "##str(e)\n",
    "\n",
    "\n",
    "\n",
    "##Q5. Why do you no longer use string-based exceptions?\n"
   ]
  }
 ],
 "metadata": {
  "kernelspec": {
   "display_name": "Python 3",
   "language": "python",
   "name": "python3"
  },
  "language_info": {
   "codemirror_mode": {
    "name": "ipython",
    "version": 3
   },
   "file_extension": ".py",
   "mimetype": "text/x-python",
   "name": "python",
   "nbconvert_exporter": "python",
   "pygments_lexer": "ipython3",
   "version": "3.8.3"
  }
 },
 "nbformat": 4,
 "nbformat_minor": 4
}
