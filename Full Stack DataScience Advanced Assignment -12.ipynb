{
 "cells": [
  {
   "cell_type": "markdown",
   "metadata": {},
   "source": [
    "##Q1. Does assigning a value to a string's indexed character violate Python's string immutability?\n",
    "\n",
    "Yes it is violation .In Python, a string is immutable. You cannot overwrite the values of immutable objects. However, you can assign the variable again.\n",
    "\n",
    "\n",
    "\n",
    "##Q2. Does using the += operator to concatenate strings violate Python's string immutability? Why or why not?\n",
    "\n",
    "No using the += operator to concatenate two strings is not violation of python strings immutabilitty.You should choose + or += for the small number of string.ecause it just as assigning to another variable\n",
    "\n",
    "\n",
    "\n",
    "##Q3. In Python, how many different ways are there to index a character?\n",
    "\n",
    "Indexing means referring to an element of an iterable by its position within the iterable. Each of a string’s characters corresponds to an index number and each character can be accessed using their index number.\n",
    "\n",
    "We can access characters in a String in Two ways :\n",
    "\n",
    "Accessing Characters by Positive Index Number\n",
    "\n",
    "Accessing Characters by Negative Index Number\n",
    "\n",
    "\n",
    "\n",
    "##Q4. What is the relationship between indexing and slicing?\n",
    "\n",
    "Indexing: Indexing is used to obtain individual elements.\n",
    "\n",
    "Slicing: Slicing is used to obtain a sequence of elements.\n",
    "\n",
    "Indexing and Slicing can be be done in Python Sequences types like list, string, tuple, range objects.\n",
    "\n",
    "Slicing is indexing syntax that extracts a portion from a list.\n",
    "\n",
    "\n",
    "\n",
    "##Q5. What is an indexed character's exact data type? What is the data form of a slicing-generated substring?\n",
    "\n",
    " an indexed character's exact data type is ###str\n",
    " \n",
    " the data form of a slicing-generated substring is ###str\n",
    " \n",
    " \n",
    "\n",
    "\n",
    "\n",
    "##Q6. What is the relationship between string and character \"types\" in Python?\n",
    "\n",
    "In Python, Strings are arrays of bytes representing Unicode characters. However, Python does not have a character data type, a single character is simply a string with a length of 1. Square brackets can be used to access elements of the string\n",
    "\n",
    "\n",
    "\n",
    "##Q7. Identify at least two operators and one method that allow you to combine one or more smaller strings to create a larger string.\n",
    "\n",
    "The simplest and most common method of concatenating a string is using the plus symbol (“+”). Let us see an example to understand it better:\n",
    "\n",
    "Using the % operator \n",
    "The modulus operator (“%”) can be used for both string formatting and string concatenation. It is useful for cases in which you need to combine strings and also perform basic formatting. \n",
    "\n",
    "An example to illustrate concatenation of string using “%” operator: \n",
    "\n",
    "\n",
    "\n",
    "Using the join() method \n",
    "The join() method is the most flexible way of concatenating strings in Python. If you have many strings and you want to combine them together, use thejoin() method. It is a string method and the most interesting thing about join() is that you can combine strings using a separator. It works on iterators like lists, tuples, string, dictionaries, etc.  "
   ]
  },
  {
   "cell_type": "code",
   "execution_count": 7,
   "metadata": {},
   "outputs": [
    {
     "name": "stdout",
     "output_type": "stream",
     "text": [
      "Apple Shake\n"
     ]
    }
   ],
   "source": [
    "a = \"Apple\" \n",
    "b = \"Shake\" \n",
    "print(\"% s % s\" % (a, b)) \n"
   ]
  },
  {
   "cell_type": "code",
   "execution_count": 8,
   "metadata": {},
   "outputs": [
    {
     "name": "stdout",
     "output_type": "stream",
     "text": [
      "Pythoniscool\n"
     ]
    }
   ],
   "source": [
    "a = \"Python\"\n",
    "\n",
    "b = \"is\"\n",
    "c = \"cool\"\n",
    "print(a + b + c) "
   ]
  },
  {
   "cell_type": "code",
   "execution_count": 9,
   "metadata": {},
   "outputs": [
    {
     "name": "stdout",
     "output_type": "stream",
     "text": [
      "Welcome-to-Python\n"
     ]
    }
   ],
   "source": [
    "a = \"Welcome\" \n",
    "b = \"to\" \n",
    "c = \"Python\" \n",
    "print(\"-\".join([a,b,c])) \n"
   ]
  },
  {
   "cell_type": "markdown",
   "metadata": {},
   "source": [
    "##Q8. What is the benefit of first checking the target string with in or not in before using the index method to find a substring?\n",
    "\n",
    "The idea is to run a loop from start to end and for every index in the given string check whether the sub-string can be formed from that index. This can be done by running a nested loop traversing the given string and in that loop run another loop checking for sub-string from every index. \n",
    "For example, consider there to be a string of length N and a substring of length M. Then run a nested loop, where the outer loop runs from 0 to (N-M) and the inner loop from 0 to M. For very index check if the sub-string traversed by the inner loop is the given sub-string or not. \n",
    "\n",
    "\n",
    "##Q9. Which operators and built-in string methods produce simple Boolean (true/false) results?\n",
    "\n",
    "bool()\n",
    "The AND operator (&& or \"and\")\n",
    "The OR operator (|| or \"or\")\n",
    "The NOT operator (not)\n",
    "\n"
   ]
  }
 ],
 "metadata": {
  "kernelspec": {
   "display_name": "Python 3",
   "language": "python",
   "name": "python3"
  },
  "language_info": {
   "codemirror_mode": {
    "name": "ipython",
    "version": 3
   },
   "file_extension": ".py",
   "mimetype": "text/x-python",
   "name": "python",
   "nbconvert_exporter": "python",
   "pygments_lexer": "ipython3",
   "version": "3.8.3"
  }
 },
 "nbformat": 4,
 "nbformat_minor": 4
}
