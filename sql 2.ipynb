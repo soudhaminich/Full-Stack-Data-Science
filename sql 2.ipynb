{
 "cells": [
  {
   "cell_type": "code",
   "execution_count": 2,
   "metadata": {},
   "outputs": [],
   "source": [
    "%load_ext sql"
   ]
  },
  {
   "cell_type": "code",
   "execution_count": 3,
   "metadata": {},
   "outputs": [],
   "source": [
    "%sql sqlite://"
   ]
  },
  {
   "cell_type": "code",
   "execution_count": 7,
   "metadata": {},
   "outputs": [
    {
     "name": "stdout",
     "output_type": "stream",
     "text": [
      " * sqlite://\n",
      "Done.\n"
     ]
    },
    {
     "data": {
      "text/plain": [
       "[]"
      ]
     },
     "execution_count": 7,
     "metadata": {},
     "output_type": "execute_result"
    }
   ],
   "source": [
    "%%sql\n",
    "\n",
    "CREATE TABLE Worker (ID INT PRIMARY KEY  ,\n",
    "                     First_Name VARCHAR (20) NOT NULL , \n",
    "                     Last_Name VARCHAR(20) , \n",
    "                     EMAIL varchar(50) ,\n",
    "                     DEPARTMENT VARCHAR(20) NOT NULL , \n",
    "                     Salary INT , \n",
    "                     Join_Date DATE) ;\n",
    "\n"
   ]
  },
  {
   "cell_type": "code",
   "execution_count": 27,
   "metadata": {},
   "outputs": [
    {
     "name": "stdout",
     "output_type": "stream",
     "text": [
      " * sqlite://\n",
      "1 rows affected.\n",
      "1 rows affected.\n",
      "1 rows affected.\n",
      "1 rows affected.\n",
      "1 rows affected.\n",
      "1 rows affected.\n",
      "1 rows affected.\n",
      "1 rows affected.\n",
      "1 rows affected.\n",
      "1 rows affected.\n",
      "1 rows affected.\n",
      "1 rows affected.\n",
      "1 rows affected.\n",
      "1 rows affected.\n",
      "1 rows affected.\n",
      "1 rows affected.\n",
      "1 rows affected.\n",
      "1 rows affected.\n",
      "1 rows affected.\n"
     ]
    },
    {
     "data": {
      "text/plain": [
       "[]"
      ]
     },
     "execution_count": 27,
     "metadata": {},
     "output_type": "execute_result"
    }
   ],
   "source": [
    "%%sql\n",
    "\n",
    "INSERT INTO Worker Values(1,'Vishal','Rathore','vishalrathore@ineuron.com','Finance', 45000,'2018-02-12');\n",
    "INSERT INTO Worker Values(2,'Rahul','Sarathe','rahulsarathe@ineuron.com','HR', 60000,  '2017-04-17');\n",
    "INSERT INTO Worker Values(3,'Anisha','Gour','anishagour@ineuron.com','Purchase', 30000, '2017-12-20');\n",
    "INSERT INTO Worker Values(4,'Saksham','Mahajan','sakshammahajan@ineuron.com','Finance', 60000, '2019-11-12');\n",
    "INSERT INTO Worker Values(5,'Aakash','Singh','amansingh@ineuron.com','Purchase',30000,  '2017-09-05');\n",
    "INSERT INTO Worker Values(6,'Ankit','Kumar','ankitkumar@ineuron.com','Marketing', 50000,  '2020-01-14');\n",
    "INSERT INTO Worker Values(7,'Riya','Agarwal','riyaagarwal@ineuron.com','Finance', 45000, '2018-04-23');\n",
    "INSERT INTO Worker Values(8,'Nishit','Sharma','nishitsharma@ineuron.com','Purchase', 48000, '2018-10-10');\n",
    "INSERT INTO Worker Values(9,'Samay','Raina','samayraina@ineuron.com','Marketing', 36000,  '2017-08-22');\n",
    "INSERT INTO Worker Values(10,'Aman','Singh','amansingh@ineuron.com','Finance', 45000,  '2017-08-12');\n",
    "INSERT INTO Worker Values(11,'Sarthak','Jain','sarthakjain@ineuron.com','Purchase', 48000,  '2018-04-08');\n",
    "INSERT INTO Worker Values(12,'Ashutosh','Patil','ashutoshpatil@ineuron.com','PR', 50000,  '2019-09-26');\n",
    "INSERT INTO Worker Values(13,'Harshit','Kumar','harshitkumar@ineuron.com','HR', 40000,  '2018-06-05');\n",
    "INSERT INTO Worker Values(14,'Ayush','Srivastav','ayushsrivastav@ineuron.com','Purchase', 30000,  '2018-08-24');\n",
    "INSERT INTO Worker Values(15,'Shreyansh','Deriya','shreyanshderiya@ineuron.com','PR', 35000, '2017-07-13');\n",
    "INSERT INTO Worker Values(16,'Aryan','Sharma','aryansharma@ineuron.com','Finance', 60000,  '2019-10-31');\n",
    "INSERT INTO Worker Values(17,'Snehal','Reddy','snehalreddy@ineuron.com','HR', 40000, '2019-03-28');\n",
    "INSERT INTO Worker Values(18,'Shubham','Mittal','shubhammittal@ineuron.com','PR', 35000,'2020-02-01');\n",
    "INSERT INTO Worker Values(19,'Rakshit','Rao','rakshitao@ineuron.com','Marketing', 36000, '2018-11-30');"
   ]
  },
  {
   "cell_type": "code",
   "execution_count": 31,
   "metadata": {},
   "outputs": [
    {
     "name": "stdout",
     "output_type": "stream",
     "text": [
      " * sqlite://\n",
      "Done.\n"
     ]
    },
    {
     "data": {
      "text/html": [
       "<table>\n",
       "    <tr>\n",
       "        <th>First_Name</th>\n",
       "        <th>SUBSTR(First_Name, 1 , 3 )</th>\n",
       "        <th>LENGTH(First_Name)</th>\n",
       "    </tr>\n",
       "    <tr>\n",
       "        <td>Vishal</td>\n",
       "        <td>Vis</td>\n",
       "        <td>6</td>\n",
       "    </tr>\n",
       "    <tr>\n",
       "        <td>Rahul</td>\n",
       "        <td>Rah</td>\n",
       "        <td>5</td>\n",
       "    </tr>\n",
       "    <tr>\n",
       "        <td>Anisha</td>\n",
       "        <td>Ani</td>\n",
       "        <td>6</td>\n",
       "    </tr>\n",
       "    <tr>\n",
       "        <td>Saksham</td>\n",
       "        <td>Sak</td>\n",
       "        <td>7</td>\n",
       "    </tr>\n",
       "    <tr>\n",
       "        <td>Aakash</td>\n",
       "        <td>Aak</td>\n",
       "        <td>6</td>\n",
       "    </tr>\n",
       "    <tr>\n",
       "        <td>Ankit</td>\n",
       "        <td>Ank</td>\n",
       "        <td>5</td>\n",
       "    </tr>\n",
       "    <tr>\n",
       "        <td>Riya</td>\n",
       "        <td>Riy</td>\n",
       "        <td>4</td>\n",
       "    </tr>\n",
       "    <tr>\n",
       "        <td>Nishit</td>\n",
       "        <td>Nis</td>\n",
       "        <td>6</td>\n",
       "    </tr>\n",
       "    <tr>\n",
       "        <td>Samay</td>\n",
       "        <td>Sam</td>\n",
       "        <td>5</td>\n",
       "    </tr>\n",
       "    <tr>\n",
       "        <td>Aman</td>\n",
       "        <td>Ama</td>\n",
       "        <td>4</td>\n",
       "    </tr>\n",
       "    <tr>\n",
       "        <td>Sarthak</td>\n",
       "        <td>Sar</td>\n",
       "        <td>7</td>\n",
       "    </tr>\n",
       "    <tr>\n",
       "        <td>Ashutosh</td>\n",
       "        <td>Ash</td>\n",
       "        <td>8</td>\n",
       "    </tr>\n",
       "    <tr>\n",
       "        <td>Harshit</td>\n",
       "        <td>Har</td>\n",
       "        <td>7</td>\n",
       "    </tr>\n",
       "    <tr>\n",
       "        <td>Ayush</td>\n",
       "        <td>Ayu</td>\n",
       "        <td>5</td>\n",
       "    </tr>\n",
       "    <tr>\n",
       "        <td>Shreyansh</td>\n",
       "        <td>Shr</td>\n",
       "        <td>9</td>\n",
       "    </tr>\n",
       "    <tr>\n",
       "        <td>Aryan</td>\n",
       "        <td>Ary</td>\n",
       "        <td>5</td>\n",
       "    </tr>\n",
       "    <tr>\n",
       "        <td>Snehal</td>\n",
       "        <td>Sne</td>\n",
       "        <td>6</td>\n",
       "    </tr>\n",
       "    <tr>\n",
       "        <td>Shubham</td>\n",
       "        <td>Shu</td>\n",
       "        <td>7</td>\n",
       "    </tr>\n",
       "    <tr>\n",
       "        <td>Rakshit</td>\n",
       "        <td>Rak</td>\n",
       "        <td>7</td>\n",
       "    </tr>\n",
       "</table>"
      ],
      "text/plain": [
       "[('Vishal', 'Vis', 6),\n",
       " ('Rahul', 'Rah', 5),\n",
       " ('Anisha', 'Ani', 6),\n",
       " ('Saksham', 'Sak', 7),\n",
       " ('Aakash', 'Aak', 6),\n",
       " ('Ankit', 'Ank', 5),\n",
       " ('Riya', 'Riy', 4),\n",
       " ('Nishit', 'Nis', 6),\n",
       " ('Samay', 'Sam', 5),\n",
       " ('Aman', 'Ama', 4),\n",
       " ('Sarthak', 'Sar', 7),\n",
       " ('Ashutosh', 'Ash', 8),\n",
       " ('Harshit', 'Har', 7),\n",
       " ('Ayush', 'Ayu', 5),\n",
       " ('Shreyansh', 'Shr', 9),\n",
       " ('Aryan', 'Ary', 5),\n",
       " ('Snehal', 'Sne', 6),\n",
       " ('Shubham', 'Shu', 7),\n",
       " ('Rakshit', 'Rak', 7)]"
      ]
     },
     "execution_count": 31,
     "metadata": {},
     "output_type": "execute_result"
    }
   ],
   "source": [
    "%%sql\n",
    "\n",
    "SELECT  First_Name ,  SUBSTR(First_Name, 1 , 3 ) , LENGTH(First_Name)\n",
    "FROM Worker ; "
   ]
  },
  {
   "cell_type": "code",
   "execution_count": 32,
   "metadata": {},
   "outputs": [
    {
     "name": "stdout",
     "output_type": "stream",
     "text": [
      " * sqlite://\n",
      "Done.\n"
     ]
    },
    {
     "data": {
      "text/html": [
       "<table>\n",
       "    <tr>\n",
       "        <th>First_Name</th>\n",
       "        <th>Last_Name</th>\n",
       "        <th>DEPARTMENT</th>\n",
       "        <th>Salary</th>\n",
       "    </tr>\n",
       "    <tr>\n",
       "        <td>Rahul</td>\n",
       "        <td>Sarathe</td>\n",
       "        <td>HR</td>\n",
       "        <td>60000</td>\n",
       "    </tr>\n",
       "    <tr>\n",
       "        <td>Saksham</td>\n",
       "        <td>Mahajan</td>\n",
       "        <td>Finance</td>\n",
       "        <td>60000</td>\n",
       "    </tr>\n",
       "    <tr>\n",
       "        <td>Ankit</td>\n",
       "        <td>Kumar</td>\n",
       "        <td>Marketing</td>\n",
       "        <td>50000</td>\n",
       "    </tr>\n",
       "    <tr>\n",
       "        <td>Nishit</td>\n",
       "        <td>Sharma</td>\n",
       "        <td>Purchase</td>\n",
       "        <td>48000</td>\n",
       "    </tr>\n",
       "    <tr>\n",
       "        <td>Sarthak</td>\n",
       "        <td>Jain</td>\n",
       "        <td>Purchase</td>\n",
       "        <td>48000</td>\n",
       "    </tr>\n",
       "    <tr>\n",
       "        <td>Ashutosh</td>\n",
       "        <td>Patil</td>\n",
       "        <td>PR</td>\n",
       "        <td>50000</td>\n",
       "    </tr>\n",
       "    <tr>\n",
       "        <td>Aryan</td>\n",
       "        <td>Sharma</td>\n",
       "        <td>Finance</td>\n",
       "        <td>60000</td>\n",
       "    </tr>\n",
       "</table>"
      ],
      "text/plain": [
       "[('Rahul', 'Sarathe', 'HR', 60000),\n",
       " ('Saksham', 'Mahajan', 'Finance', 60000),\n",
       " ('Ankit', 'Kumar', 'Marketing', 50000),\n",
       " ('Nishit', 'Sharma', 'Purchase', 48000),\n",
       " ('Sarthak', 'Jain', 'Purchase', 48000),\n",
       " ('Ashutosh', 'Patil', 'PR', 50000),\n",
       " ('Aryan', 'Sharma', 'Finance', 60000)]"
      ]
     },
     "execution_count": 32,
     "metadata": {},
     "output_type": "execute_result"
    }
   ],
   "source": [
    "%%sql\n",
    "\n",
    "WITH W1 AS (SELECT  [DEPARTMENT]  AS Department , MAX([Salary]) AS Salary\n",
    "FROM Worker\n",
    "GROUP BY  [DEPARTMENT])\n",
    "SELECT w.First_name , w.Last_name, w.DEPARTMENT , w.Salary \n",
    "FROM Worker w\n",
    "JOIN W1 \n",
    "ON w.DEPARTMENT = W1.Department AND w.Salary = W1.Salary;"
   ]
  },
  {
   "cell_type": "code",
   "execution_count": null,
   "metadata": {},
   "outputs": [],
   "source": []
  }
 ],
 "metadata": {
  "kernelspec": {
   "display_name": "Python 3",
   "language": "python",
   "name": "python3"
  },
  "language_info": {
   "codemirror_mode": {
    "name": "ipython",
    "version": 3
   },
   "file_extension": ".py",
   "mimetype": "text/x-python",
   "name": "python",
   "nbconvert_exporter": "python",
   "pygments_lexer": "ipython3",
   "version": "3.8.3"
  }
 },
 "nbformat": 4,
 "nbformat_minor": 4
}
