{
 "cells": [
  {
   "cell_type": "markdown",
   "metadata": {},
   "source": [
    "##Q1. What is the difference between __getattr__ and __getattribute__?\n",
    "\n",
    "A key difference between __getattr__ and __getattribute__ is that __getattr__ is only invoked if the attribute wasn't found the usual ways. It's good for implementing a fallback for missing attributes, and is probably the one of two you want.\n",
    "\n",
    "__getattribute__ is invoked before looking at the actual attributes on the object, and so can be tricky to implement correctly. You can end up in infinite recursions very easily.\n",
    "\n",
    "New-style classes derive from object, old-style classes are those in Python 2.x with no explicit base class. But the distinction between old-style and new-style classes is not the important one when choosing between __getattr__ and __getattribute__.\n",
    "\n",
    "You almost certainly want __getattr__\n",
    "\n",
    "\n",
    "\n",
    "##Q2. What is the difference between properties and descriptors?\n",
    "\n",
    "Descriptors are a low-level mechanism that lets you hook into an object's attributes being accessed. Properties are a high-level application of this; that is, properties are implemented using descriptors. Or, better yet, properties are descriptors that are already provided for you in the standard library.\n",
    "\n",
    "\n",
    "\n",
    "##Q3. What are the key differences in functionality between __getattr__ and __getattribute__, as well as properties and descriptors?\n",
    "\n",
    "__getattribute__:  Is used to retrieve an attribute from an instance. It captures every attempt to access an instance attribute by using dot notation or getattr() built-in function.\n",
    "\n",
    "__getattr__ : Is executed as the last resource when attribute is not found in an object. You can choose to return a default value or to raise AttributeError.\n",
    "\n",
    "__Descriptors__:\n",
    "\n",
    "Descriptors are invoked by the __getattribute__() method.\n",
    "Overriding __getattribute__() prevents automatic descriptor calls.\n",
    "object.__getattribute__() and type.__getattribute__() make different calls to __get__().\n",
    "Data descriptors always override instance dictionaries.\n",
    "Non-data descriptors may be overridden by instance dictionaries.\n",
    "\n",
    "Properties :\n",
    "\n",
    "Python internally uses property. It logs a message to the console when it’s accessed. Calling property() is a succinct way of building a data descriptor that triggers function calls upon access to an attribute. \n",
    "\n",
    "Its signature is:property(fget=None, fset=None, fdel=None, doc=None) -> object\n",
    "\n",
    "\n"
   ]
  }
 ],
 "metadata": {
  "kernelspec": {
   "display_name": "Python 3",
   "language": "python",
   "name": "python3"
  },
  "language_info": {
   "codemirror_mode": {
    "name": "ipython",
    "version": 3
   },
   "file_extension": ".py",
   "mimetype": "text/x-python",
   "name": "python",
   "nbconvert_exporter": "python",
   "pygments_lexer": "ipython3",
   "version": "3.8.3"
  }
 },
 "nbformat": 4,
 "nbformat_minor": 4
}
