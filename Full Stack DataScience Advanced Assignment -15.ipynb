{
 "cells": [
  {
   "cell_type": "markdown",
   "metadata": {},
   "source": [
    "##1.What are the new features added in Python 3.8 version?\n",
    "\n",
    "Python 3.8 adds some new syntax to the language, a few minor changes to existing behavior, and mostly a bunch of speed improvements — maintaining the tradition from the earlier 3.7 release\n",
    "\n",
    "Assignment expressions\n",
    "\n",
    "Positional-only parameters\n",
    "\n",
    "Parallel filesystem cache for compiled bytecode files\n",
    "\n",
    "Debug build uses the same ABI as release build\n",
    "\n",
    "##2.What is monkey patching in Python?\n",
    "\n",
    "In Python, the term monkey patch refers to dynamic (or run-time) modifications of a class or module. In Python, we can actually change the behavior of code at run-time.\n",
    "\n",
    "Monkey Patching is an exciting topic of Python. Monkey-patching is a term that refers to modifying a class or module at a run time. In simple words, a class or module's work can be changed at the runtime. Let's understand this concept by real-life example.\n",
    "\n",
    "When we work on a large project, we may encounter a situation where the third-party library is not working well. So we attempt to revise (or change) it from our project. This process is known as monkey patching in Python. Generally, it is avoided by the developer. However, it is a part of the development process.\n",
    "\n",
    "In monkey patching, we can reopen the class and modify its behavior\n",
    "\n",
    "##3.What is the difference between a shallow copy and deep copy?\n",
    "\n",
    "A shallow copy constructs a new compound object and then (to the extent possible) inserts references into it to the objects found in the original. A deep copy constructs a new compound object and then, recursively, inserts copies into it of the objects found in the original.\n",
    "\n",
    "##4.What is the maximum possible length of an identifier?\n",
    "\n",
    "Identifiers can be a combination of letters, numbers, special symbols, etc. But it must not extend 31 characters. Hence, the maximum possible length of an identifier is 31 characters.\n",
    "\n",
    "##5.What is generator comprehension?\n",
    "\n",
    "A generator comprehension is a single-line specification for defining a generator in Python. It is absolutely essential to learn this syntax in order to write simple and readable code. Note: Generator comprehensions are not the only method for defining generators in Python.\n"
   ]
  }
 ],
 "metadata": {
  "kernelspec": {
   "display_name": "Python 3",
   "language": "python",
   "name": "python3"
  },
  "language_info": {
   "codemirror_mode": {
    "name": "ipython",
    "version": 3
   },
   "file_extension": ".py",
   "mimetype": "text/x-python",
   "name": "python",
   "nbconvert_exporter": "python",
   "pygments_lexer": "ipython3",
   "version": "3.8.3"
  }
 },
 "nbformat": 4,
 "nbformat_minor": 4
}
