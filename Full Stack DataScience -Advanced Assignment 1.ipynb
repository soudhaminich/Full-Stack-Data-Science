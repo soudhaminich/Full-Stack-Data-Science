{
 "cells": [
  {
   "cell_type": "markdown",
   "metadata": {},
   "source": [
    "##Q1. What is the purpose of Python's OOP?\n",
    "\n",
    "\n",
    "Purpose of OOP in Python is :\n",
    "\n",
    "It provides a clear program structure and a clean code\n",
    "\n",
    "It facilitates easy maintenance and modification of existing code\n",
    "\n",
    "Since the class is sharable, the code can be reused\n",
    "\n",
    "Since the class is sharable, the code can be reused and many other such Advantages."
   ]
  },
  {
   "cell_type": "markdown",
   "metadata": {},
   "source": [
    "##Q2. Where does an inheritance search look for an attribute?\n",
    "\n",
    "Every time you use an expression of the form object.attr where object is an instance or class object, Python searches the namespace tree at and above object, for the first attr it can find. "
   ]
  },
  {
   "cell_type": "markdown",
   "metadata": {},
   "source": [
    "##Q3. How do you distinguish between a class object and an instance object?\n",
    "\n",
    "Class : a specification, blueprint for an object\n",
    "\n",
    "Object : physical presence of the class in memory\n",
    "\n",
    "Instance : an unique copy of the object (same structure, different data)"
   ]
  },
  {
   "cell_type": "markdown",
   "metadata": {},
   "source": [
    "##Q4. What makes the first argument in a class’s method function special?\n",
    "\n",
    "The first parameter in the class method is the class on which you are calling the method, not (necessarily) the class that defines the method. (Having a variable that always holds the same class would probably not be that useful.)"
   ]
  },
  {
   "cell_type": "markdown",
   "metadata": {},
   "source": [
    "##Q5. What is the purpose of the __init__ method?\n",
    "\n",
    "__init__ is one of the reserved methods in Python. In object oriented programming, it is known as a constructor. The __init__ method can be called when an object is created from the class, and access is required to initialize the attributes of the class."
   ]
  },
  {
   "cell_type": "markdown",
   "metadata": {},
   "source": [
    "##Q6. What is the process for creating a class instance?\n",
    "\n",
    "To create instances of a class, you call the class using class name and pass in whatever arguments its __init__ method accepts.\n",
    "\n",
    "Example:\n",
    "\n",
    "emp1 = Employee(\"xyz\", 2000)\n",
    "\n",
    "emp2 = Employee(\"pqr\", 5000)"
   ]
  },
  {
   "cell_type": "markdown",
   "metadata": {},
   "source": [
    "##Q7. What is the process for creating a class?\n",
    "\n",
    "Classes are created by keyword class.\n",
    "\n",
    "Attributes are the variables that belong to a class.\n",
    "\n",
    "Attributes are always public and can be accessed using the dot (.) operator. Eg.: Myclass.Myattribute\n",
    "\n",
    "Class Definition Syntax:\n",
    "\n",
    "class ClassName:\n",
    "    \n",
    "    # Statement-1\n",
    "    .\n",
    "    .\n",
    "    .\n",
    "    # Statement-N"
   ]
  },
  {
   "cell_type": "markdown",
   "metadata": {},
   "source": [
    "##Q8. How would you define the superclasses of a class?\n",
    "\n",
    "The class from which a class inherits is called the parent or superclass. A class which inherits from a superclass is called a subclass, also called heir class or child class. Superclasses are sometimes called ancestors as well."
   ]
  }
 ],
 "metadata": {
  "kernelspec": {
   "display_name": "Python 3",
   "language": "python",
   "name": "python3"
  },
  "language_info": {
   "codemirror_mode": {
    "name": "ipython",
    "version": 3
   },
   "file_extension": ".py",
   "mimetype": "text/x-python",
   "name": "python",
   "nbconvert_exporter": "python",
   "pygments_lexer": "ipython3",
   "version": "3.8.3"
  }
 },
 "nbformat": 4,
 "nbformat_minor": 4
}
