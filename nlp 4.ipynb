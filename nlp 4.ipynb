{
 "cells": [
  {
   "cell_type": "markdown",
   "metadata": {},
   "source": [
    "##1.\tCan you think of a few applications for a sequence-to-sequence RNN? What about a sequence-to-vector RNN? And a vector-to-sequence RNN?\n",
    "\n",
    "In Sequence to Sequence Learning, RNN is trained to map an input sequence to an output sequence which is not necessarily of the same length.\n",
    "\n",
    "Applications are speech recognition, machine translation, image captioning and question answering.\n",
    "\n",
    "A variable-length context vector can be used instead of a ﬁxed-size vector. An Attention mechanism can be used to produces a sequence of vectors from the encoder RNN from each time step of the input sequence. The Decoder learns to pay selective attention to the vectors to produce the output at each time step.\n",
    "\n",
    "##2.\tWhy do people use encoder–decoder RNNs rather than plain sequence-to-sequence RNNs for automatic translation?\n",
    "\n",
    "This two-step model, called an Encoder–Decoder, works much better than trying to translate on the fly with a single sequence-to-sequence RNN (like the one represented on the top left), since the last words of a sentence can affect the first words of the translation, so you need to wait until you have heard the whole sentence before translating it.\n",
    "\n",
    "##3.\tHow could you combine a convolutional neural network with an RNN to classify videos?\n",
    "\n",
    "Combining CNN and RNN.\n",
    "\n",
    "Each video is converted into sequential images and passed onto the CNN to extract spatial features. The outputs are then passed into a recurrent sequence learning model (i.e. LSTM) to identify temporal features within the image sequence.\n",
    "\n",
    "##4.\tWhat are the advantages of building an RNN using dynamic_rnn() rather than static_rnn()?\n",
    "\n",
    "1. avoids out-of-memory errors\n",
    "\n",
    "2. directly takes single tensor as input and output (covering all time steps)\n",
    "\n",
    "3. no need to stack, unstack, or transpose\n",
    "\n",
    "4. generates a smaller easier to visualize graph in TensorBoard\n",
    "\n",
    "##5.\tHow can you deal with variable-length input sequences? What about variable-length output sequences?\n",
    "\n",
    "1. set sequence_length parameter when calling static_rnn() or dynamic_rnn()\n",
    "\n",
    "2. pad smaller input/output to make them same size as largest input/output\n",
    "\n",
    "##6.\tWhat is a common way to distribute training and execution of a deep RNN across multiple GPUs?\n",
    "\n",
    "place each layer on a different GPU\n",
    "\n"
   ]
  }
 ],
 "metadata": {
  "kernelspec": {
   "display_name": "Python 3",
   "language": "python",
   "name": "python3"
  },
  "language_info": {
   "codemirror_mode": {
    "name": "ipython",
    "version": 3
   },
   "file_extension": ".py",
   "mimetype": "text/x-python",
   "name": "python",
   "nbconvert_exporter": "python",
   "pygments_lexer": "ipython3",
   "version": "3.8.3"
  }
 },
 "nbformat": 4,
 "nbformat_minor": 4
}
