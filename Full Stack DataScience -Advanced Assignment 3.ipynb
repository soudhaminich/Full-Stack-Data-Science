{
 "cells": [
  {
   "cell_type": "markdown",
   "metadata": {},
   "source": [
    "##1. What is the concept of an abstract superclass?\n",
    "\n",
    "A common superclass for several subclasses.\n",
    "\n",
    "Factor up common behavior\n",
    "\n",
    "Define the methods they all respond to.\n",
    "\n",
    "Methods that subclasses should implement are declared abstract\n",
    "\n",
    "Instances of the subclasses are created, but no instances of the superclass"
   ]
  },
  {
   "cell_type": "markdown",
   "metadata": {},
   "source": [
    "##2. What happens when a class statement's top level contains a basic assignment statement?\n",
    "\n",
    "It will not be considered as top level but it executes it as an class statement."
   ]
  },
  {
   "cell_type": "markdown",
   "metadata": {},
   "source": [
    "##3. Why does a class need to manually call a superclass's __init__ method?\n",
    "\n",
    "Because Cube inherits from Square and In the same way  __init__() doesn’t really do anything differently for Cube than it \n",
    "\n",
    "already does for Square, you can skip defining it, and the .__init__() of the superclass (Square) will be called automatically.\n",
    "\n",
    "super() returns a delegate object to a parent class, so you call the method you want directly on it: super().area()."
   ]
  },
  {
   "cell_type": "markdown",
   "metadata": {},
   "source": [
    "\n",
    "##4. How can you augment, instead of completely replacing, an inherited method?\n",
    "\n",
    "The good way to do that in Python is by calling to the original version directly, with augmented arguments, like this:\n",
    "\n",
    "class Manager(Person):\n",
    "\n",
    "    def giveRaise(self, percent, bonus=.10):\n",
    "\n",
    "        Person.giveRaise(self, percent + bonus) # Good: augment original"
   ]
  },
  {
   "cell_type": "markdown",
   "metadata": {},
   "source": [
    "##5. How is the local scope of a class different from that of a function?\n",
    "\n",
    "A variable created inside a function belongs to the local scope of that function, and can only be used inside that function\n",
    "\n",
    "\n",
    "Declaring a variable in a class (outside of a function) : all class functions can access it (basically a public variable): comment:this is like a static variable and can be called using the class name. These variables are available to all functions, any functions can modify it and print it.\n",
    "\n",
    "Declaring a variable inside a function inside a class : only that function can access it (its in that functions scope): comment: if the variable is declared without self then it is accessible within that function only, kinda local variable. However if it declared using self like self.var= 'somevalue',, then it is accessible via any object but not via the class name.\n",
    "\n",
    "Declaring a variable with self.(variable name) inside a function inside a class : all class functions can access it (how is this different from global (variable name)?): comment: see asnswer in the above part."
   ]
  }
 ],
 "metadata": {
  "kernelspec": {
   "display_name": "Python 3",
   "language": "python",
   "name": "python3"
  },
  "language_info": {
   "codemirror_mode": {
    "name": "ipython",
    "version": 3
   },
   "file_extension": ".py",
   "mimetype": "text/x-python",
   "name": "python",
   "nbconvert_exporter": "python",
   "pygments_lexer": "ipython3",
   "version": "3.8.3"
  }
 },
 "nbformat": 4,
 "nbformat_minor": 4
}
