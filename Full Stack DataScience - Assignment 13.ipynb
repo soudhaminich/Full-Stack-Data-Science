{
 "cells": [
  {
   "cell_type": "markdown",
   "metadata": {},
   "source": [
    "##1. What advantages do Excel spreadsheets have over CSV spreadsheets?\n",
    "\n",
    "While Excel (XLS and XLSX) file formats are better for storing more complex data, CSV files are supported by nearly all data upload interfaces. \n",
    "\n",
    "CSV file can't perform operations on data while Excel can perform operations on the data.\n",
    "\n",
    "Excel can perform VBA Coding, functions, formulas and create summaries easily when compared to CSV.\tCSV cannot perform VBA Coding, functions, formulas and create summaries easily when compared to Excel."
   ]
  },
  {
   "cell_type": "markdown",
   "metadata": {},
   "source": [
    "##2.What do you pass to csv.reader() and csv.writer() to create reader and writer objects?\n",
    "\n",
    "reader() is used to read the file, which returns an iterable reader object. The reader object is then iterated using a for loop to print the contents of each row.\n",
    "\n",
    "writer() function. The csv. writer() function returns a writer object that converts the user's data into a delimited string."
   ]
  },
  {
   "cell_type": "markdown",
   "metadata": {},
   "source": [
    "##3. What modes do File objects for reader and writer objects need to be opened in?\n",
    "\n",
    "r+: Opens a file for reading and writing, placing the pointer at the beginning of the file.\n",
    "\n",
    "w+: Opens a file for writing and reading."
   ]
  },
  {
   "cell_type": "markdown",
   "metadata": {},
   "source": [
    "##4. What method takes a list argument and writes it to a CSV file?\n",
    "\n",
    "writerows():\n",
    "\n",
    "    This function takes a list of iterables as parameter and writes each item as a comma separated line of items in the file."
   ]
  },
  {
   "cell_type": "markdown",
   "metadata": {},
   "source": [
    "##5. What do the keyword arguments delimiter and line terminator do?\n",
    "\n",
    " The delimiter is the character that appears between cells on a row. By default, the delimiter for a CSV file is a comma. The line terminator is the character that comes at the end of a row. By default, the line terminator is a newline. You can change characters to different values by using the delimiter and lineterminator keyword arguments with csv.writer()."
   ]
  },
  {
   "cell_type": "markdown",
   "metadata": {},
   "source": [
    "##6. What function takes a string of JSON data and returns a Python data structure?\n",
    "\n",
    "loads() method return Python data structure of JSON string or data"
   ]
  },
  {
   "cell_type": "markdown",
   "metadata": {},
   "source": [
    "##7. What function takes a Python data structure and returns a string of JSON data?\n",
    "\n",
    "dump() function to convert the Python data into their respective JSON data"
   ]
  }
 ],
 "metadata": {
  "kernelspec": {
   "display_name": "Python 3",
   "language": "python",
   "name": "python3"
  },
  "language_info": {
   "codemirror_mode": {
    "name": "ipython",
    "version": 3
   },
   "file_extension": ".py",
   "mimetype": "text/x-python",
   "name": "python",
   "nbconvert_exporter": "python",
   "pygments_lexer": "ipython3",
   "version": "3.8.3"
  }
 },
 "nbformat": 4,
 "nbformat_minor": 4
}
