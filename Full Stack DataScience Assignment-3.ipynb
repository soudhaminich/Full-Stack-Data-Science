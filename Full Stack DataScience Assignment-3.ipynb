{
 "cells": [
  {
   "cell_type": "markdown",
   "metadata": {},
   "source": [
    "##1.Why are functions advantageous to have in your programs?\n",
    "\n",
    "The functions reduce the complexity of programs.\n",
    "\n",
    "They increase readability of the code\n",
    "\n",
    "Avoid duplicates of the code or repeitition\n",
    "\n",
    "Easier to handle the program and modify it.\n",
    "\n",
    "Makes the problem shorter\n"
   ]
  },
  {
   "cell_type": "markdown",
   "metadata": {},
   "source": [
    "##2. When does the code in a function run: when it's specified or when it's called?\n",
    "\n",
    "The code in the function run only when it is called,not when the function is specified."
   ]
  },
  {
   "cell_type": "markdown",
   "metadata": {},
   "source": [
    "##3. What statement creates a function?\n",
    "\n",
    "The def statement along with the required function name creates a function.\n",
    "\n",
    "Example:\n",
    "\n",
    "def add(a,b):\n",
    "\n",
    "    sum=a+b\n",
    "    print(\"sum is :\",sum)\n",
    "    \n",
    " "
   ]
  },
  {
   "cell_type": "markdown",
   "metadata": {},
   "source": [
    "##4. What is the difference between a function and a function call?\n",
    "\n",
    " A function is procedure to achieve a particular result  or block of statements which is used to do a task.\n",
    " \n",
    " Where as function call  is calling the function when required to achieve the particular task.\n",
    " \n",
    " The function call evaluates to the function's return value.\n"
   ]
  },
  {
   "cell_type": "markdown",
   "metadata": {},
   "source": [
    "##5. How many global scopes are there in a Python program? How many local scopes?\n",
    "\n",
    "There is one global scope and it is destroyed when the program terminates and local scope is created when ever the function is called.\n"
   ]
  },
  {
   "cell_type": "markdown",
   "metadata": {},
   "source": [
    "##6. What happens to variables in a local scope when the function call returns?\n",
    "\n",
    "When a fucntion call returns the local scope is destroyes and it forgets all the variables are forgotten"
   ]
  },
  {
   "cell_type": "markdown",
   "metadata": {},
   "source": [
    "##7. What is the concept of a return value? Is it possible to have a return value in an expression?\n",
    "\n",
    "A value which is returned by the  function after evaluating the result to the function call or caller function is know as return \n",
    "\n",
    "value.\n",
    "\n",
    "It is possible to have areturn value in an expression.\n"
   ]
  },
  {
   "cell_type": "markdown",
   "metadata": {},
   "source": [
    "##8. If a function does not have a return statement, what is the return value of a call to that function?\n",
    "\n",
    " If a function does not have a return statement,  the return value of a call to that function is None.\n",
    " \n",
    " "
   ]
  },
  {
   "cell_type": "markdown",
   "metadata": {},
   "source": [
    "##9. How do you make a function variable refer to the global variable?\n",
    "\n",
    "We have to use global keyword and write a global statement to make a function variable refer to global variable\n"
   ]
  },
  {
   "cell_type": "markdown",
   "metadata": {},
   "source": [
    "##10. What is the data type of None?\n",
    "\n",
    "The datatype is NoneType\n",
    "\n"
   ]
  },
  {
   "cell_type": "code",
   "execution_count": 1,
   "metadata": {},
   "outputs": [
    {
     "data": {
      "text/plain": [
       "NoneType"
      ]
     },
     "execution_count": 1,
     "metadata": {},
     "output_type": "execute_result"
    }
   ],
   "source": [
    "type(None)"
   ]
  },
  {
   "cell_type": "markdown",
   "metadata": {},
   "source": [
    "##11. What does the sentence import areallyourpetsnamederic do?\n",
    "\n",
    "It  imports a module named areallyourpetsnamederic. (This is not a real or built-in Python module.)"
   ]
  },
  {
   "cell_type": "markdown",
   "metadata": {},
   "source": [
    "##12. If you had a bacon() feature in a spam module, what would you call it after importing spam?\n",
    "\n",
    "We call it as spam.bacon() after importing spam.\n",
    "\n"
   ]
  },
  {
   "cell_type": "markdown",
   "metadata": {},
   "source": [
    "##13. What can you do to save a programme from crashing if it encounters an error?\n",
    "\n",
    "We can solve this problem by placing that line of code which cause an error in a try clause.\n"
   ]
  },
  {
   "cell_type": "markdown",
   "metadata": {},
   "source": [
    "##14. What is the purpose of the try clause? What is the purpose of the except clause?\n",
    "\n",
    "The code that  cause an error goes in the try clause.\n",
    "\n",
    "The code that executes if an error happens is kept in the except clause.\n"
   ]
  }
 ],
 "metadata": {
  "kernelspec": {
   "display_name": "Python 3",
   "language": "python",
   "name": "python3"
  },
  "language_info": {
   "codemirror_mode": {
    "name": "ipython",
    "version": 3
   },
   "file_extension": ".py",
   "mimetype": "text/x-python",
   "name": "python",
   "nbconvert_exporter": "python",
   "pygments_lexer": "ipython3",
   "version": "3.8.3"
  }
 },
 "nbformat": 4,
 "nbformat_minor": 4
}
