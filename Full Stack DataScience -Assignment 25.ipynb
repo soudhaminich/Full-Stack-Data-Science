{
 "cells": [
  {
   "cell_type": "markdown",
   "metadata": {},
   "source": [
    "##1) . What is the difference between enclosing a list comprehension in square brackets and parentheses?\n",
    "\n",
    "Square brackets are lists while parentheses are tuples.\n",
    "\n",
    "A list is mutable, meaning you can change its contents while tuples not\n",
    "\n",
    "The other main difference is that a tuple is hashable, meaning that you can use it as a key to a dictionary, among other things."
   ]
  },
  {
   "cell_type": "markdown",
   "metadata": {},
   "source": [
    "##2) What is the relationship between generators and iterators?\n",
    "\n",
    "Iterator\n",
    "\n",
    "Class is used to implement an iterator\n",
    "\n",
    "Local Variables aren’t used here.                                         \n",
    "\n",
    "Iterators are used mostly to iterate or convert other objects to an iterator using iter() function. \n",
    "\n",
    "Iterator uses iter() and next() functions \n",
    "\n",
    "Every iterator is not a generator\n",
    "\n",
    "Generator:\n",
    "\n",
    "Function is used to implement a generator.\n",
    "\n",
    "All the local variables before the yield function are stored. \n",
    "\n",
    "Generators are mostly used in loops to generate an iterator by returning all the values in the loop without affecting the iteration of the loop\n",
    "\n",
    "Generator uses yield keyword\n",
    "\n",
    "Every generator is an iterator"
   ]
  },
  {
   "cell_type": "markdown",
   "metadata": {},
   "source": [
    "##3) What are the signs that a function is a generator function?\n",
    "\n",
    "Generator function contains one or more yield statements.\n",
    "\n",
    "When called, it returns an object (iterator) but does not start execution immediately.\n",
    "\n",
    "Methods like __iter__() and __next__() are implemented automatically. So we can iterate through the items using next().\n",
    "\n",
    "Once the function yields, the function is paused and the control is transferred to the caller.\n",
    "\n",
    "Local variables and their states are remembered between successive calls.\n",
    "\n",
    "Finally, when the function terminates, StopIteration is raised automatically on further calls."
   ]
  },
  {
   "cell_type": "markdown",
   "metadata": {},
   "source": [
    "##4) What is the purpose of a yield statement?\n",
    "\n",
    "Yield is a keyword in Python that is used to return from a function without destroying the states of its local variable and when the function is called, the execution starts from the last yield statement. Any function that contains a yield keyword is termed a generator."
   ]
  },
  {
   "cell_type": "markdown",
   "metadata": {},
   "source": [
    "##5) What is the relationship between map calls and list comprehensions? Make a comparison and contrast between the two.\n",
    "\n",
    "Map VS List Comprehension\n",
    "\n",
    "List comprehension is more concise and easier to read as compared to map.\n",
    "\n",
    "List comprehension allows filtering. In map, we have no such facility. For example, to print all even numbers in range of 100, we can write [n for n in range(100) if n%2 == 0]. There is no alternate for it in map\n",
    "\n",
    "List comprehension are used when a list of results is required as map only returns a map object and does not return any list.\n",
    "\n",
    "List comprehension is faster than map when we need to evaluate expressions that are too long or complicated to express\n",
    "\n",
    "Map is faster in case of calling an already defined function (as no lambda is required).\n"
   ]
  }
 ],
 "metadata": {
  "kernelspec": {
   "display_name": "Python 3",
   "language": "python",
   "name": "python3"
  },
  "language_info": {
   "codemirror_mode": {
    "name": "ipython",
    "version": 3
   },
   "file_extension": ".py",
   "mimetype": "text/x-python",
   "name": "python",
   "nbconvert_exporter": "python",
   "pygments_lexer": "ipython3",
   "version": "3.8.3"
  }
 },
 "nbformat": 4,
 "nbformat_minor": 4
}
