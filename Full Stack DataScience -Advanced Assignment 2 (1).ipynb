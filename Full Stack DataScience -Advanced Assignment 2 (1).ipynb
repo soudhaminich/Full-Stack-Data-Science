{
 "cells": [
  {
   "cell_type": "markdown",
   "metadata": {},
   "source": [
    "##Q1. What is the relationship between classes and modules?\n",
    "\n",
    "Modules are collections of methods and constants. They cannot generate instances. Classes may generate instances (objects), and have per-instance state (instance variables).\n",
    "\n",
    "A class may inherit from another class, but not from a module.\n",
    "\n",
    "A module may not inherit from anything."
   ]
  },
  {
   "cell_type": "markdown",
   "metadata": {},
   "source": [
    "##Q2. How do you make instances and classes?\n",
    "\n",
    "The class statement creates a new class definition. The name of the class immediately follows the keyword class followed by a colon as follows −\n",
    "\n",
    "class ClassName:\n",
    "   \n",
    "   pass\n",
    "   \n",
    "   \n",
    "   To create instances of a class, you call the class using class name and pass in whatever arguments its __init__ method accepts.\n",
    "\n",
    "emp1 = Employee(\"pid\", 2000)\n",
    "\n",
    "emp2 = Employee(\"Mim\", 5000)"
   ]
  },
  {
   "cell_type": "markdown",
   "metadata": {},
   "source": [
    "##Q3. Where and how should be class attributes created?\n",
    "\n",
    "Class attributes are attributes which are owned by the class itself. They will be shared by all the instances of the class. \n",
    "\n",
    "Therefore they have the same value for every instance. We define class attributes outside all the methods, usually they are \n",
    "\n",
    "placed at the top, right below the class header.\n",
    "\n",
    "In the following interactive Python session, we can see that the class attribute \"a\" is the same for all instances, in our \n",
    "\n",
    "examples \"x\" and \"y\". Besides this, we see that we can access a class attribute via an instance or via the class name:\n",
    "\n",
    "\n",
    "class A:\n",
    "    \n",
    "    a = \"I am a class attribute!\"\n",
    "\n",
    "x = A()\n",
    "\n",
    "y = A()\n",
    "\n",
    "x.a"
   ]
  },
  {
   "cell_type": "markdown",
   "metadata": {},
   "source": [
    "##Q4. Where and how are instance attributes created?\n",
    "\n",
    "\n",
    "An instance attribute is a Python variable belonging to only one object. It is only accessible in the scope of the object and it is \n",
    "\n",
    "defined inside the constructor function of a class. For example, __init__(self,..).\n",
    "\n",
    "class ExampleClass(object):\n",
    "  \n",
    "  class_attr = 0\n",
    "\n",
    "  def __init__(self, instance_attr):\n",
    "  \n",
    "     self.instance_attr = instance_attr"
   ]
  },
  {
   "cell_type": "markdown",
   "metadata": {},
   "source": [
    "##Q5. What does the term \"self\" in a Python class mean?\n",
    "\n",
    "\"self\" in python represents the instance of the class. By using the “self” keyword we can access the attributes and methods of \n",
    "\n",
    "the class in python. It binds the attributes with the given arguments.\n",
    "\n",
    "The reason you need to use self. is because Python does not use the @ syntax to refer to instance attributes."
   ]
  },
  {
   "cell_type": "markdown",
   "metadata": {},
   "source": [
    "##Q6. How does a Python class handle operator overloading?\n",
    "\n",
    "Operator Overloading means giving extended meaning beyond their predefined operational meaning. For example operator + \n",
    "\n",
    "is used to add two integers as well as join two strings and merge two lists. It is achievable because ‘+’ operator is overloaded \n",
    "\n",
    "by int class and str class. You might have noticed that the same built-in operator or function shows different behavior for \n",
    "\n",
    "objects of different classes, this is called Operator Overloading. \n",
    " "
   ]
  },
  {
   "cell_type": "markdown",
   "metadata": {},
   "source": [
    "##Q7. When do you consider allowing operator overloading of your classes?\n",
    "\n",
    "When we use an operator on user defined data types then automatically a special function or magic function associated with \n",
    "\n",
    "that operator is invoked. Changing the behavior of operator is as simple as changing the behavior of method or function. You \n",
    "\n",
    "define methods in your class and operators work according to that behavior defined in methods. When we use + operator, the \n",
    "\n",
    "magic method __add__ is automatically invoked in which the operation for + operator is defined. "
   ]
  },
  {
   "cell_type": "markdown",
   "metadata": {},
   "source": [
    "##Q8. What is the most popular form of operator overloading?\n",
    "\n",
    "\n",
    "Plus Operator Overloaded: This involves an extended interpretation of an operator more than its …\n",
    "\n",
    "Multiplication Operator Overloaded: Another similar example of a binary operator involved in the …\n",
    "\n",
    "Greater than and Less than Operator Overloaded:Even the comparison operators like > and < exhibit …\n",
    "\n",
    "Equal to Operator Overloaded:The equal operator (==) is used for comparing two different lists."
   ]
  },
  {
   "cell_type": "markdown",
   "metadata": {},
   "source": [
    "##Q9. What are the two most important concepts to grasp in order to comprehend Python OOP code?\n",
    "\n",
    "Classes and objects are the two main aspects of object oriented programming. A class creates a new type (of object) where \n",
    "\n",
    "objects are particular instances of a particular class."
   ]
  },
  {
   "cell_type": "code",
   "execution_count": null,
   "metadata": {},
   "outputs": [],
   "source": []
  }
 ],
 "metadata": {
  "kernelspec": {
   "display_name": "Python 3",
   "language": "python",
   "name": "python3"
  },
  "language_info": {
   "codemirror_mode": {
    "name": "ipython",
    "version": 3
   },
   "file_extension": ".py",
   "mimetype": "text/x-python",
   "name": "python",
   "nbconvert_exporter": "python",
   "pygments_lexer": "ipython3",
   "version": "3.8.3"
  }
 },
 "nbformat": 4,
 "nbformat_minor": 4
}
