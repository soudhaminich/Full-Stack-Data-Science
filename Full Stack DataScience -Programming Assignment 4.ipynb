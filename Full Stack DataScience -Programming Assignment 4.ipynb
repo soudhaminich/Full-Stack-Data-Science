{
 "cells": [
  {
   "cell_type": "markdown",
   "metadata": {},
   "source": [
    "##1.Write a Python Program to Find the Factorial of a Number?"
   ]
  },
  {
   "cell_type": "code",
   "execution_count": 1,
   "metadata": {},
   "outputs": [
    {
     "name": "stdout",
     "output_type": "stream",
     "text": [
      "enter n=5\n",
      "120\n"
     ]
    }
   ],
   "source": [
    "n=int(input(\"enter n=\"))\n",
    "def factorial(n):\n",
    "    for i in range(0,n):\n",
    "        if n==0 or n==1:\n",
    "            fact= 1\n",
    "        else:\n",
    "            fact= n*factorial(n-1)\n",
    "    return fact\n",
    "\n",
    "print(factorial(n))\n",
    "    \n",
    "       \n",
    "        "
   ]
  },
  {
   "cell_type": "markdown",
   "metadata": {},
   "source": [
    "##2.Write a Python Program to Display the multiplication Table?\n"
   ]
  },
  {
   "cell_type": "code",
   "execution_count": 2,
   "metadata": {},
   "outputs": [
    {
     "name": "stdout",
     "output_type": "stream",
     "text": [
      "enter number=12\n",
      "enter range=10\n",
      "Multiplication table is:\n",
      "12 * 1 = 12\n",
      "12 * 2 = 24\n",
      "12 * 3 = 36\n",
      "12 * 4 = 48\n",
      "12 * 5 = 60\n",
      "12 * 6 = 72\n",
      "12 * 7 = 84\n",
      "12 * 8 = 96\n",
      "12 * 9 = 108\n",
      "12 * 10 = 120\n"
     ]
    }
   ],
   "source": [
    "n=int(input(\"enter number=\"))\n",
    "m=int(input(\"enter range=\"))\n",
    "def mul(n):\n",
    "    for i in range(1,m+1):\n",
    "        print(n,\"*\",i,\"=\",n*i)\n",
    "print(\"Multiplication table is:\")\n",
    "mul(n)"
   ]
  },
  {
   "cell_type": "markdown",
   "metadata": {},
   "source": [
    "##3.Write a Python Program to Print the Fibonacci sequence?"
   ]
  },
  {
   "cell_type": "code",
   "execution_count": 3,
   "metadata": {},
   "outputs": [
    {
     "name": "stdout",
     "output_type": "stream",
     "text": [
      "enter limit=5\n",
      "fibonacci series is:\n",
      "0\n",
      "1\n",
      "1\n",
      "2\n",
      "3\n"
     ]
    }
   ],
   "source": [
    "n=int(input(\"enter limit=\"))\n",
    "\n",
    "def fib(n):\n",
    "    a=0\n",
    "    b=1\n",
    "    print(a)\n",
    "    print(b)\n",
    "   \n",
    "    for i in range(2,n):\n",
    "        \n",
    "        c=a+b\n",
    "        print(c)\n",
    "        a=b\n",
    "        b=c\n",
    "        \n",
    "print(\"fibonacci series is:\")\n",
    "fib(n)"
   ]
  },
  {
   "cell_type": "markdown",
   "metadata": {},
   "source": [
    "##4.Write a Python Program to Check Armstrong Number?\n"
   ]
  },
  {
   "cell_type": "code",
   "execution_count": 8,
   "metadata": {},
   "outputs": [
    {
     "name": "stdout",
     "output_type": "stream",
     "text": [
      "enter n=2\n",
      "it is armstrong\n"
     ]
    }
   ],
   "source": [
    "n=int(input(\"enter n=\"))\n",
    "\n",
    "n1=n\n",
    "\n",
    "def armstrong(n):\n",
    "    sum=0\n",
    "    count=0\n",
    "    while n!=0:\n",
    "        n=n//10\n",
    "        count=count+1\n",
    "    \n",
    "    while(n>0):\n",
    "        \n",
    "        r=n1%10\n",
    "        sum=sum+(r**count)\n",
    "        n1=n1//10\n",
    "        \n",
    "    if sum==n:\n",
    "        print(\"it is armstrong\")\n",
    "    else:\n",
    "        print(\"it is not armstrong\")\n",
    "armstrong(n)"
   ]
  },
  {
   "cell_type": "markdown",
   "metadata": {},
   "source": [
    "##5.Write a Python Program to Find Armstrong Number in an Interval?"
   ]
  },
  {
   "cell_type": "code",
   "execution_count": 7,
   "metadata": {},
   "outputs": [
    {
     "name": "stdout",
     "output_type": "stream",
     "text": [
      "enter starting range=1\n",
      "enter ending range=160\n",
      "1\n",
      "2\n",
      "3\n",
      "4\n",
      "5\n",
      "6\n",
      "7\n",
      "8\n",
      "9\n",
      "153\n"
     ]
    }
   ],
   "source": [
    "\n",
    "a=int(input(\"enter starting range=\"))\n",
    "b=int(input(\"enter ending range=\"))\n",
    "\n",
    "def armstrong(a,b):\n",
    "    for i in range(a,b+1):\n",
    "        order = len(str(i))\n",
    "        sum = 0\n",
    "        temp = i\n",
    "        while temp > 0:\n",
    "           digit = temp % 10\n",
    "           sum += digit ** order\n",
    "           temp //= 10\n",
    "        if i == sum:\n",
    "           print(i)\n",
    "    \n",
    "armstrong(a,b)"
   ]
  },
  {
   "cell_type": "markdown",
   "metadata": {},
   "source": [
    "##6.Write a Python Program to Find the Sum of Natural Numbers?"
   ]
  },
  {
   "cell_type": "code",
   "execution_count": 13,
   "metadata": {},
   "outputs": [
    {
     "name": "stdout",
     "output_type": "stream",
     "text": [
      "enter n=3\n",
      "sum is = 6\n"
     ]
    }
   ],
   "source": [
    "n=int(input(\"enter n=\"))\n",
    "def sum(n):\n",
    "    sum=0\n",
    "    for i in range(0,n+1):\n",
    "        sum=sum+i\n",
    "    return sum\n",
    "print(\"sum is =\",sum(n))"
   ]
  },
  {
   "cell_type": "code",
   "execution_count": null,
   "metadata": {},
   "outputs": [],
   "source": []
  }
 ],
 "metadata": {
  "kernelspec": {
   "display_name": "Python 3",
   "language": "python",
   "name": "python3"
  },
  "language_info": {
   "codemirror_mode": {
    "name": "ipython",
    "version": 3
   },
   "file_extension": ".py",
   "mimetype": "text/x-python",
   "name": "python",
   "nbconvert_exporter": "python",
   "pygments_lexer": "ipython3",
   "version": "3.8.3"
  }
 },
 "nbformat": 4,
 "nbformat_minor": 4
}
