{
 "cells": [
  {
   "cell_type": "markdown",
   "metadata": {},
   "source": [
    "##Question1. \n",
    "\n",
    "Create a function that takes three arguments a, b, c and returns the sum of the numbers that are evenly divided by c from the range a, b inclusive.\n",
    "\n",
    "Examples\n",
    "\n",
    "evenly_divisible(1, 10, 20) ➞ 0\n",
    "\n",
    "No number between 1 and 10 can be evenly divided by 20.\n",
    "\n",
    "evenly_divisible(1, 10, 2) ➞ 30\n",
    "\n",
    "2 + 4 + 6 + 8 + 10 = 30\n",
    "\n",
    "evenly_divisible(1, 10, 3) ➞ 18\n",
    "\n",
    "3 + 6 + 9 = 18\n",
    "\n"
   ]
  },
  {
   "cell_type": "code",
   "execution_count": 6,
   "metadata": {},
   "outputs": [
    {
     "name": "stdout",
     "output_type": "stream",
     "text": [
      "1\n",
      "10\n",
      "3\n",
      "evenly_divisible( 1 , 10 , 3 ) --> 18\n"
     ]
    }
   ],
   "source": [
    "def sumDivisibles(A, B, M):\n",
    "    sum = 0\n",
    "    for i in range(A, B + 1):\n",
    " \n",
    "        if (i % M == 0):\n",
    "            sum += i\n",
    "    return sum\n",
    "A = int(input())\n",
    "B = int(input())\n",
    "M =int(input())\n",
    "print('evenly_divisible(', A,',',B,',',M,\") -->\",sumDivisibles(A, B, M))"
   ]
  },
  {
   "cell_type": "markdown",
   "metadata": {},
   "source": [
    "##Question2. \n",
    "\n",
    "Create a function that returns True if a given inequality expression is correct and False otherwise.\n",
    "\n",
    "Examples\n",
    "\n",
    "correct_signs(\"3 < 7 < 11\") ➞ True\n",
    "\n",
    "correct_signs(\"13 > 44 > 33 > 1\") ➞ False\n",
    "\n",
    "correct_signs(\"1 < 2 < 6 < 9 > 3\") ➞ True\n",
    "\n"
   ]
  },
  {
   "cell_type": "code",
   "execution_count": 9,
   "metadata": {},
   "outputs": [
    {
     "name": "stdout",
     "output_type": "stream",
     "text": [
      "True\n",
      "False\n",
      "True\n"
     ]
    }
   ],
   "source": [
    "def check(s):\n",
    "    regex=eval(s)\n",
    "    if regex:\n",
    "        return True\n",
    "    else:\n",
    "        return False \n",
    "\n",
    "print(check(\"3< 7 < 11\"))\n",
    "print(check(\"13 > 44 > 33 > 1\"))\n",
    "print(check(\"1< 2 < 6< 9> 3\"))"
   ]
  },
  {
   "cell_type": "markdown",
   "metadata": {},
   "source": [
    "##Question3. \n",
    "\n",
    "Create a function that replaces all the vowels in a string with a specified character.\n",
    "\n",
    "Examples\n",
    "replace_vowels(\"the aardvark\", \"#\") ➞ \"th# ##rdv#rk\"\n",
    "\n",
    "replace_vowels(\"minnie mouse\", \"?\") ➞ \"m?nn?? m??s?\"\n",
    "\n",
    "replace_vowels(\"shakespeare\", \"*\") ➞ \"sh*k*sp**r*\"\n"
   ]
  },
  {
   "cell_type": "code",
   "execution_count": 10,
   "metadata": {},
   "outputs": [
    {
     "name": "stdout",
     "output_type": "stream",
     "text": [
      "Enter the String: \n",
      "the aardvark\n",
      "Enter a character: \n",
      "#\n",
      "\n",
      "Original String: the aardvark\n",
      "New String: th# ##rdv#rk\n"
     ]
    }
   ],
   "source": [
    "print(\"Enter the String: \")\n",
    "str = input()\n",
    "\n",
    "print(\"Enter a character: \")\n",
    "char = input()\n",
    "\n",
    "newstr = \"\"\n",
    "for i in range(len(str)):\n",
    "    if str[i]=='a' or str[i]=='e' or str[i]=='i' or str[i]=='o' or str[i]=='u':\n",
    "        newstr = newstr + char\n",
    "    else:\n",
    "        newstr = newstr + str[i]\n",
    "\n",
    "print(\"\\nOriginal String:\", str)\n",
    "print(\"New String:\", newstr)"
   ]
  },
  {
   "cell_type": "markdown",
   "metadata": {},
   "source": [
    "##Question4. \n",
    "\n",
    "Write a function that calculates the factorial of a number recursively.\n",
    "\n",
    "Examples\n",
    "factorial(5) ➞ 120\n",
    "\n",
    "factorial(3) ➞ 6\n",
    "\n",
    "factorial(1) ➞ 1\n",
    "\n",
    "factorial(0) ➞ 1\n"
   ]
  },
  {
   "cell_type": "code",
   "execution_count": 11,
   "metadata": {},
   "outputs": [
    {
     "name": "stdout",
     "output_type": "stream",
     "text": [
      "Factorial of 5 is 120\n"
     ]
    }
   ],
   "source": [
    "\n",
    "def factorial(n):\n",
    "\t\n",
    "\tif n == 0:\n",
    "\t\treturn 1\n",
    "\t\n",
    "\treturn n * factorial(n-1)\n",
    "\n",
    "num = 5;\n",
    "print(\"Factorial of\", num, \"is\",\n",
    "factorial(num))\n",
    "\n",
    "\n"
   ]
  },
  {
   "cell_type": "markdown",
   "metadata": {},
   "source": [
    "##Question 5\n",
    "\n",
    "Hamming distance is the number of characters that differ between two strings.\n",
    "\n",
    "To illustrate:\n",
    "\n",
    "\n",
    "String1: \"abcbba\"\n",
    "\n",
    "String2: \"abcbda\"\n",
    "\n",
    "Hamming Distance: 1 - \"b\" vs. \"d\" is the only difference.\n",
    "\n",
    "Create a function that computes the hamming distance between two strings.\n",
    "\n",
    "Examples\n",
    "\n",
    "hamming_distance(\"abcde\", \"bcdef\") ➞ 5\n",
    "\n",
    "hamming_distance(\"abcde\", \"abcde\") ➞ 0\n",
    "\n",
    "hamming_distance(\"strong\", \"strung\") ➞ 1\n"
   ]
  },
  {
   "cell_type": "code",
   "execution_count": 12,
   "metadata": {},
   "outputs": [
    {
     "name": "stdout",
     "output_type": "stream",
     "text": [
      "abcde\n",
      "bcdef\n",
      "5\n"
     ]
    }
   ],
   "source": [
    "def hamming_distance(string1, string2): \n",
    "    \n",
    "    distance = 0\n",
    "  \n",
    "    L = len(string1)\n",
    "    for i in range(L):\n",
    "       \n",
    "        if string1[i] != string2[i]:\n",
    "            distance += 1\n",
    "  \n",
    "    return distance\n",
    "\n",
    "string1=input()\n",
    "string2=input()\n",
    "print( hamming_distance(string1, string2))\n"
   ]
  }
 ],
 "metadata": {
  "kernelspec": {
   "display_name": "Python 3",
   "language": "python",
   "name": "python3"
  },
  "language_info": {
   "codemirror_mode": {
    "name": "ipython",
    "version": 3
   },
   "file_extension": ".py",
   "mimetype": "text/x-python",
   "name": "python",
   "nbconvert_exporter": "python",
   "pygments_lexer": "ipython3",
   "version": "3.8.3"
  }
 },
 "nbformat": 4,
 "nbformat_minor": 4
}
