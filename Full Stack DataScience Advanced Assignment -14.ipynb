{
 "cells": [
  {
   "cell_type": "markdown",
   "metadata": {},
   "source": [
    "##Q1. Is an assignment operator like += only for show? Is it possible that it would lead to faster results at the runtime?\n",
    "\n",
    " Augmented assignment operators have a special role to play in Python programming. It basically combines the functioning of the arithmetic or bitwise operator with the assignment operator.  Any compiler worth its salt will generate exactly the same machine-language sequence for both constructs for any built-in type (int, float, etc) as long as the statement really is as simple as x = x + a; and optimization is enabled. (Notably, GCC's -O0, which is the default mode, performs anti-optimizations, such as inserting completely unnecessary stores to memory, in order to ensure that debuggers can always find variable values.)\n",
    "\n",
    "##Q2. What is the smallest number of statements you would have to write in most programming languages to replace the Python expression a, b = a + b, a?\n",
    " \n",
    "we have to write three statemetns to replace this python expression\n",
    "\n",
    "##Q3. In Python, what is the most effective way to set a list of 100 integers to 0?"
   ]
  },
  {
   "cell_type": "code",
   "execution_count": 11,
   "metadata": {},
   "outputs": [
    {
     "name": "stdout",
     "output_type": "stream",
     "text": [
      "[100, 99, 98, 97, 96, 95, 94, 93, 92, 91, 90, 89, 88, 87, 86, 85, 84, 83, 82, 81, 80, 79, 78, 77, 76, 75, 74, 73, 72, 71, 70, 69, 68, 67, 66, 65, 64, 63, 62, 61, 60, 59, 58, 57, 56, 55, 54, 53, 52, 51, 50, 49, 48, 47, 46, 45, 44, 43, 42, 41, 40, 39, 38, 37, 36, 35, 34, 33, 32, 31, 30, 29, 28, 27, 26, 25, 24, 23, 22, 21, 20, 19, 18, 17, 16, 15, 14, 13, 12, 11, 10, 9, 8, 7, 6, 5, 4, 3, 2, 1]\n"
     ]
    }
   ],
   "source": [
    "a_list = list(range(100,0,-1))\n",
    "\n",
    "print(a_list)"
   ]
  },
  {
   "cell_type": "markdown",
   "metadata": {},
   "source": [
    "##Q4. What is the most effective way to initialise a list of 99 integers that repeats the sequence 1, 2, 3? S If necessary, show step-by-step instructions on how to accomplish this."
   ]
  },
  {
   "cell_type": "code",
   "execution_count": 12,
   "metadata": {},
   "outputs": [
    {
     "name": "stdout",
     "output_type": "stream",
     "text": [
      "[1, 2, 3, 1, 2, 3, 1, 2, 3, 1, 2, 3, 1, 2, 3, 1, 2, 3, 1, 2, 3, 1, 2, 3, 1, 2, 3, 1, 2, 3, 1, 2, 3, 1, 2, 3, 1, 2, 3, 1, 2, 3, 1, 2, 3, 1, 2, 3, 1, 2, 3, 1, 2, 3, 1, 2, 3, 1, 2, 3, 1, 2, 3, 1, 2, 3, 1, 2, 3, 1, 2, 3, 1, 2, 3, 1, 2, 3, 1, 2, 3, 1, 2, 3, 1, 2, 3, 1, 2, 3, 1, 2, 3, 1, 2, 3, 1, 2, 3]\n"
     ]
    }
   ],
   "source": [
    "listOfStrings1 = [1,2,3] * 33\n",
    "print(listOfStrings1)"
   ]
  },
  {
   "cell_type": "markdown",
   "metadata": {},
   "source": [
    "##Q5. If you are using IDLE to run a Python application, explain how to print a multi dimensional list asefficiently?\n",
    "\n",
    "A 2D array is an array of arrays that can be represented in matrix form like rows and columns. In this array, the position of data elements is defined with two indices instead of a single index.\n",
    "\n",
    "Syntax\n",
    "\n",
    "Array_name = [rows][columns] # declaration of 2D array\n",
    "\n",
    "Arr-name = [ [m1, m2, m3, … . mn], [n1, n2, n3, … .. nn] ]\n",
    "\n",
    "##Q6. Is it possible to use list comprehension with a string? If so, how can you go about doing it?\n",
    "\n",
    "List comprehension works with string lists also. The following creates a new list of strings that contains 'a'. Above, the expression if 'a' in s returns True if an element contains a character 'a'."
   ]
  },
  {
   "cell_type": "code",
   "execution_count": 13,
   "metadata": {},
   "outputs": [
    {
     "name": "stdout",
     "output_type": "stream",
     "text": [
      "['Ram', 'Mohan']\n"
     ]
    }
   ],
   "source": [
    "names = ['Steve', 'Bill', 'Ram', 'Mohan', 'Abdul']\n",
    "names2 = [s for s in names if 'a' in s]\n",
    "print(names2)"
   ]
  },
  {
   "cell_type": "markdown",
   "metadata": {},
   "source": [
    "##Q7. From the command line, how do you get support with a user-written Python programme? Is this possible from inside IDLE?\n",
    "\n",
    "To run Python scripts with the python command, you need to open a command-line and type in the word python , or python3 if you have both versions, followed by the path to your script, just like this: $ python3 hello.py Hello World!\n",
    "\n",
    "##Q8. Functions are said to be “first-class objects” in Python but not in most other languages, such as C++ or Java. What can you do in Python with a function (callable object) that you can't do in C orC++?\n",
    "\n",
    "Python is a general-purpose, high-level programming language. Python is considered to be cleaner and more direct, with emphasis code readability.\n",
    "\n",
    "Some differences between C++ and Python:\n",
    "\n",
    "Python uses Garbage Collection whereas C++ does not.\n",
    "\n",
    "C++ is a statically typed language, while Python is a dynamically typed language.\n",
    "\n",
    "Python is easier to use than C++.\n",
    "\n",
    "Python is run through an interpreter, whilst C++ is pre-compiled.\n",
    "\n",
    "Hence, C++ is faster than Python.\n",
    "\n",
    "C++ supports pointers and incredible memory management.\n",
    "\n",
    "Python supports very fast development and rapid, continuous language development.\n",
    "\n",
    "Python has less backwards compatibility.\n",
    "\n",
    "Majority of all applications are built from C++.\n",
    "\n",
    "Majority of all 3D applications offer Python access to their API's.\n",
    "\n",
    "Python code tends to be 5 to 10 times shorter than that written in C++.\n",
    "\n",
    "In Python, there is no need to declare types explicitly.\n",
    "\n",
    "Smaller code size in Python leads to leads to \"rapid prototyping\", which offers speed of development.\n",
    "\n",
    "Python is hard to install on a Windows box and thus makes distribution of the program problematic.\n",
    "\n",
    "C++ is a pure binary that links to existing libraries to assist the coding.\n",
    "\n",
    "In Python, variables are in scope even outside the loops in which they are first instantiated.\n",
    "\n",
    "In Python, a function may accept an argument of any type, and return a value of any type, without any kind of declaration beforehand.\n",
    "\n",
    "Python provides flexibility in calling functions and returning values.\n",
    "\n",
    "Python looks cleaner, is object oriented, and still maintains a little strictness about types.\n",
    "\n",
    "##Q9. How do you distinguish between a wrapper, a wrapped feature, and a decorator?\n",
    "\n",
    "Wrappers around the functions are also knows as decorators which are a very powerful and useful tool in Python since it allows programmers to modify the behavior of function or class. Decorators allow us to wrap another function in order to extend the behavior of the wrapped function, without permanently modifying it. In Decorators, functions are taken as the argument into another function and then called inside the wrapper function.\n",
    "\n",
    "##Q10. If a function is a generator function, what does it return?\n",
    "\n",
    "A generator is a special type of function which does not return a single value, instead, it returns an iterator object with a sequence of values. In a generator function, a yield statement is used rather than a return statement.\n",
    "\n",
    "##Q11. What is the one improvement that must be made to a function in order for it to become a generator function in the Python language?\n",
    "\n",
    "Create Generators in Python\n",
    "It is fairly simple to create a generator in Python. It is as easy as defining a normal function, but with a yield statement instead of a return statement. If a function contains at least one yield statement (it may contain other yield or return statements), it becomes a generator function.\n",
    "\n",
    "##Q12. Identify at least one benefit of generators\n",
    "\n",
    "Generators have been an important part of Python ever since they were introduced with PEP 255. Generator functions allow you to declare a function that behaves like an iterator. They allow programmers to make an iterator in a fast, easy, and clean way"
   ]
  }
 ],
 "metadata": {
  "kernelspec": {
   "display_name": "Python 3",
   "language": "python",
   "name": "python3"
  },
  "language_info": {
   "codemirror_mode": {
    "name": "ipython",
    "version": 3
   },
   "file_extension": ".py",
   "mimetype": "text/x-python",
   "name": "python",
   "nbconvert_exporter": "python",
   "pygments_lexer": "ipython3",
   "version": "3.8.3"
  }
 },
 "nbformat": 4,
 "nbformat_minor": 4
}
