{
 "cells": [
  {
   "cell_type": "markdown",
   "metadata": {},
   "source": [
    "##What are Corpora?\n",
    "\n",
    "A corpus can be defined as a collection of text documents. It can be thought as just a bunch of text files in a directory, often alongside many other directories of text files.\n",
    "\n",
    "How it is done ?\n",
    "NLTK already defines a list of data paths or directories in nltk.data.path. Our custom corpora must be present within any of these given paths so it can be found by NLTK.\n",
    "We can also create a custom nltk_data directory in our home directory and verify that it is in the list of known paths specified by nltk.data.path.\n",
    "\n",
    "##What are Tokens?\n",
    "\n",
    "In general, a token is an object that represents something else, such as another object (either physical or virtual), or an abstract concept as, for example, a gift is sometimes referred to as a token of the giver's esteem for the recipient. In computers, there are a number of types of tokens.\n",
    "\n",
    "##What are Unigrams, Bigrams, Trigrams?\n",
    "\n",
    "A 1-gram (or unigram) is a one-word sequence. For the above sentence, the unigrams would simply be: “I”, “love”, “reading”, “blogs”, “about”, “data”, “science”, “on”, “Analytics”, “Vidhya”.\n",
    "\n",
    "A 2-gram (or bigram) is a two-word sequence of words, like “I love”, “love reading”, or “Analytics Vidhya”. \n",
    "\n",
    "And a 3-gram (or trigram) is a three-word sequence of words like “I love reading”, “about data science” \n",
    ".\n",
    "##How to generate n-grams from text?\n",
    "\n",
    "The Extract N-Gram Features from Text module creates two types of output: Results dataset: A summary of the analyzed text together with the n-grams that were extracted. Columns that you did not select in the Text column option are passed through to the output\n",
    "\n",
    "##Explain Lemmatization\n",
    "\n",
    "Lemmatization is a linguistic term that means grouping together words with the same root or lemma but with different inflections or derivatives of meaning so they can be analyzed as one item. The aim is to take away inflectional suffixes and prefixes to bring out the word's dictionary form.\n",
    "\n",
    "##Explain Stemming\n",
    "\n",
    "In linguistic morphology and information retrieval, stemming is the process of reducing inflected (or sometimes derived) words to their word stem, base or root form—generally a written word form. ... A computer program or subroutine that stems word may be called a stemming program, stemming algorithm, or stemmer.\n",
    "\n",
    "\n",
    "##Explain Part-of-speech (POS) tagging\n",
    "\n",
    "Part-of-speech (POS) tagging is a popular Natural Language Processing process which refers to categorizing words in a text (corpus) in correspondence with a particular part of speech, depending on the definition of the word and its context.\n",
    "\n",
    "##Explain Chunking or shallow parsing\n",
    "\n",
    "Shallow parsing (also chunking or light parsing) is an analysis of a sentence which first identifies constituent parts of sentences (nouns, verbs, adjectives, etc.) and then links them to higher order units that have discrete grammatical meanings (noun groups or phrases, verb groups, etc.).\n",
    "\n",
    "##Explain Noun Phrase (NP) chunking\n",
    "\n",
    "NP is the user-defined name of the chunk you are searching for. In this case NP stands for noun phrase.\n",
    "\n",
    "##Explain Named Entity Recognition\n",
    "\n",
    "Named entity recognition (NER) — sometimes referred to as entity chunking, extraction, or identification — is the task of identifying and categorizing key information (entities) in text. ... NER is a form of natural language processing (NLP), a subfield of artificial intelligence."
   ]
  }
 ],
 "metadata": {
  "kernelspec": {
   "display_name": "Python 3",
   "language": "python",
   "name": "python3"
  },
  "language_info": {
   "codemirror_mode": {
    "name": "ipython",
    "version": 3
   },
   "file_extension": ".py",
   "mimetype": "text/x-python",
   "name": "python",
   "nbconvert_exporter": "python",
   "pygments_lexer": "ipython3",
   "version": "3.8.3"
  }
 },
 "nbformat": 4,
 "nbformat_minor": 4
}
