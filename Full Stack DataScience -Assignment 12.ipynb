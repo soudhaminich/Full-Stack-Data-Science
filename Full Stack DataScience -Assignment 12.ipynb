{
 "cells": [
  {
   "cell_type": "markdown",
   "metadata": {},
   "source": [
    "##1. In what modes should the PdfFileReader() and PdfFileWriter() File objects will be opened?\n",
    "\n",
    "PdfFileReader() needs to be opened in read-binary mode by passing 'rb' as the second argument to open(). Likewise, the File object passed to PyPDF2.PdfFileWriter() needs to be opened in write-binary mode with 'wb'."
   ]
  },
  {
   "cell_type": "markdown",
   "metadata": {},
   "source": [
    "##2. From a PdfFileReader object, how do you get a Page object for page 5?\n",
    "\n",
    "To extract text from a page, you need to get a Page object, which represents a single page of a PDF, from a PdfFileReader object. You can get a Page object by calling the getPage() method on a PdfFileReader object and passing it the page number of the page you’re interested in—in our case, 4.\n",
    "\n",
    "The page object numbers start from 0 i.e, if we want page 1 - o,page 2 - 1"
   ]
  },
  {
   "cell_type": "markdown",
   "metadata": {},
   "source": [
    "##3. What PdfFileReader variable stores the number of pages in the PDF document?\n",
    "\n",
    "The total number of pages in the document is stored in the numPages attribute of a PdfFileReader object"
   ]
  },
  {
   "cell_type": "markdown",
   "metadata": {},
   "source": [
    "##4. If a PdfFileReader object’s PDF is encrypted with the password swordfish, what must you do before you can obtain Page objects from it?\n",
    "\n",
    "\n",
    "We encrypted the PdfFilerReader with the password swordfish.\n",
    "\n",
    "Before anyone can view encryptedminutes.pdf, they’ll have to enter this password. You may want to delete the original, unencrypted meetingminutes.pdf file after ensuring its copy was correctly encrypted."
   ]
  },
  {
   "cell_type": "markdown",
   "metadata": {},
   "source": [
    "##5. What methods do you use to rotate a page?\n",
    "\n",
    "The pages of a PDF can also be rotated in 90-degree increments with the rotateClockwise() and rotateCounterClockwise() methods. \n",
    "\n",
    "Pass one of the integers 90, 180, or 270 to these methods. "
   ]
  },
  {
   "cell_type": "markdown",
   "metadata": {},
   "source": [
    "##6. What is the difference between a Run object and a Paragraph object?\n",
    "\n",
    " A Run object is a contiguous run of text with the same style. A new Run object is needed whenever the text style changes.\n",
    " \n",
    " The Document object contains a list of Paragraph objects for the paragraphs in the document. (A new paragraph begins whenever the user presses ENTER or RETURN while typing in a Word document.) Each of these Paragraph objects contains a list of one or more Run objects."
   ]
  },
  {
   "cell_type": "markdown",
   "metadata": {},
   "source": [
    "##7. How do you obtain a list of Paragraph objects for a Document object that’s stored in a variable named doc?\n",
    "\n",
    "we open a .docx file in Python, call docx.Document(), and pass the filename demo.docx. This will return a Document object, which has a paragraphs attribute that is a list of Paragraph objects. When we call len() on doc.paragraphs, it returns 7, which tells us that there are seven Paragraph objects in this document . Each of these Paragraph objects has a text attribute that contains a string of the text in that paragraph (without the style information). Here, the first text attribute contains 'DocumentTitle' , and the second contains 'A plain paragraph with some bold and some italic' "
   ]
  },
  {
   "cell_type": "markdown",
   "metadata": {},
   "source": [
    "##8. What type of object has bold, underline, italic, strike, and outline variables?\n",
    "\n",
    "Run object Text attributes has these variables."
   ]
  },
  {
   "cell_type": "markdown",
   "metadata": {},
   "source": [
    "##9. What is the difference between False, True, and None for the bold variable?\n",
    "\n",
    "False for bold variable indicates it should not be in bold letters\n",
    "\n",
    "True for bold variable indicates it must be in bold letters\n",
    "\n",
    "None indicates normal"
   ]
  },
  {
   "cell_type": "markdown",
   "metadata": {},
   "source": [
    "##10. How do you create a Document object for a new Word document?\n",
    "\n",
    "We open a .docx file in Python, call docx.Document(), and pass the filename demo.docx. This will return a Document object,"
   ]
  },
  {
   "cell_type": "markdown",
   "metadata": {},
   "source": [
    "##11. How do you add a paragraph with the text 'Hello, there!' to a Document object stored in a variable named doc?"
   ]
  },
  {
   "cell_type": "code",
   "execution_count": null,
   "metadata": {},
   "outputs": [],
   "source": [
    "import docx\n",
    "doc = docx.Document()\n",
    "doc.add_paragraph('Hello, there!')\n",
    "doc.save('hellothere.docx')"
   ]
  },
  {
   "cell_type": "markdown",
   "metadata": {},
   "source": [
    "##12. What integers represent the levels of headings available in Word documents?\n",
    "\n",
    "The integer 0 makes the heading the Title style, which is used for the top of the document.\n",
    "\n",
    "Integers 1 to 4 are for various heading levels, with 1 being the main heading and 4 the lowest subheading. "
   ]
  }
 ],
 "metadata": {
  "kernelspec": {
   "display_name": "Python 3",
   "language": "python",
   "name": "python3"
  },
  "language_info": {
   "codemirror_mode": {
    "name": "ipython",
    "version": 3
   },
   "file_extension": ".py",
   "mimetype": "text/x-python",
   "name": "python",
   "nbconvert_exporter": "python",
   "pygments_lexer": "ipython3",
   "version": "3.8.3"
  }
 },
 "nbformat": 4,
 "nbformat_minor": 4
}
