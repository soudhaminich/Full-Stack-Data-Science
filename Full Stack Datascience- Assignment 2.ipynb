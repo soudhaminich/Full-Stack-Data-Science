{
 "cells": [
  {
   "cell_type": "markdown",
   "metadata": {},
   "source": [
    "##1.What are the two values of the Boolean data type? How do you write them?\n",
    "\n",
    "\n",
    "There are two values of boolean data type.They are :\n",
    "\n",
    "1.True\n",
    "\n",
    "2.False\n",
    "\n",
    "\n",
    "Values are written as True and False (the capitalization must be exactly as shown).\n",
    "\n",
    "Here, \n",
    "\n",
    "True is equivalent to 1. \n",
    "\n",
    "False is equivalent to 0.\n",
    "\n"
   ]
  },
  {
   "cell_type": "markdown",
   "metadata": {},
   "source": [
    "##2. What are the three different types of Boolean operators?\n",
    "\n",
    "The three different types of boolean operators are:\n",
    "\n",
    "1.AND - returns TRUE if both the operands  are true.\n",
    "\n",
    "2.OR   - returns TRUE if either of the operand  is true.\n",
    "\n",
    "3.NOT  -returns TRUE if operand is false and viceversa.\n",
    "\n"
   ]
  },
  {
   "cell_type": "markdown",
   "metadata": {},
   "source": [
    "##3. Make a list of each Boolean operator's truth tables (i.e. every possible combination of Boolean values for the operator and what it evaluate ).\n",
    "\n",
    "\n",
    "\n",
    "\n",
    "\n",
    "    AND TRUTH TABLE AND ITS VALUES\n",
    "    \n",
    "        a        b       a and b\n",
    "\n",
    "    False\tFalse    False\n",
    "\n",
    "    False\tTrue\t  False\n",
    "\n",
    "    True\tFalse\t False\n",
    "\n",
    "    True\tTrue\t True\n",
    "\n",
    "\n",
    "    OR TRUTH TABLE AND ITS VALUES\n",
    "\n",
    "       a         b\t     a or b\n",
    "  \n",
    "    False\tFalse\tFalse\n",
    "\n",
    "    False\tTrue\tTrue\n",
    "\n",
    "    True\tFrue\tTrue\n",
    "\n",
    "    True\tTrue\tTrue\n",
    "\n",
    "\n",
    "    NOT TRUTH TABLE AND ITS VALUES\n",
    "\n",
    "    a\t     not a\n",
    "\n",
    "    False\tTrue\n",
    "\n",
    "    True\tFalse"
   ]
  },
  {
   "cell_type": "markdown",
   "metadata": {},
   "source": [
    "##4. What are the values of the following expressions?\n",
    "\n",
    "(5 > 4) and (3 == 5)  - False\n",
    "\n",
    "not (5 > 4) - False\n",
    "\n",
    "(5 > 4) or (3 == 5)  - True\n",
    "\n",
    "not ((5 > 4) or (3 == 5))  - False\n",
    "\n",
    "(True and True) and (True == False)  -False\n",
    "\n",
    "(not False) or (not True) - True\n",
    "\n",
    "\n",
    "\n",
    "\n"
   ]
  },
  {
   "cell_type": "markdown",
   "metadata": {},
   "source": [
    "##5. What are the six comparison operators?\n",
    "\n",
    "\n",
    "    ==\t  If the values of two operands are equal, then the condition becomes true.\t\n",
    "    \n",
    "    !=\t   If values of two operands are not equal, then condition becomes true.\n",
    "    \n",
    "    >      If the value of left operand is greater than the value of right operand, then condition becomes true.\n",
    "    \n",
    "    <      If the value of left operand is less than the value of right operand, then condition becomes true.\n",
    "    \n",
    "    >=    If the value of left operand is greater than or equal to the value of right operand, then condition becomes true.\n",
    "    \n",
    "    <=    If the value of left operand is less than or equal to the value of right operand, then condition becomes true.\n",
    "\n"
   ]
  },
  {
   "cell_type": "markdown",
   "metadata": {},
   "source": [
    "##6. How do you tell the difference between the equal to and assignment operators?Describe a condition and when you would use \n",
    "\n",
    "one.\n",
    "\n",
    "=  -  It is an assignment operator, used for assigning the value to a variable.\n",
    "\n",
    "==  -  It is a relational or comparison operator, used for comparing two values. It returns 1 if both the values are equal otherwise \n",
    "\n",
    "returns 0.\n",
    "\n",
    "Example:"
   ]
  },
  {
   "cell_type": "code",
   "execution_count": 11,
   "metadata": {},
   "outputs": [
    {
     "name": "stdout",
     "output_type": "stream",
     "text": [
      "True\n"
     ]
    }
   ],
   "source": [
    "x=10 #assignment operator\n",
    "\n",
    "y=10\n",
    "\n",
    "if(x==y):  #checks equality\n",
    "\n",
    "    print(\"True\");\n",
    "\n",
    "else:\n",
    "\n",
    "    print(\"False\");"
   ]
  },
  {
   "cell_type": "markdown",
   "metadata": {},
   "source": [
    "##7. Identify the three blocks in this code:\n",
    "\n",
    "spam = 0\n",
    "\n",
    "if spam == 10:\n",
    "\n",
    "print('eggs')\n",
    "\n",
    "if spam > 5:\n",
    "\n",
    "print('bacon')\n",
    "\n",
    "else:\n",
    "\n",
    "print('ham')\n",
    "\n",
    "print('spam')\n",
    "\n",
    "print('spam')\n",
    "\n",
    "\n",
    "\n",
    "The three blocks are everything inside the if statement and the lines print('bacon') and print('ham').\n",
    "\n",
    "spam = 0\n",
    "\n",
    "if spam == 10:\n",
    "\n",
    "    print('eggs')\n",
    "\n",
    "if spam > 5:\n",
    "\n",
    "    print('bacon')\n",
    "    \n",
    "else:\n",
    "\n",
    "    print('ham')\n",
    "    \n",
    "print('spam')\n"
   ]
  },
  {
   "cell_type": "markdown",
   "metadata": {},
   "source": [
    "##8. Write code that prints Hello if 1 is stored in spam, prints Howdy if 2 is stored in spam, and prints Greetings! if anything else is stored in spam.\n",
    "\n",
    "\n",
    "\n"
   ]
  },
  {
   "cell_type": "code",
   "execution_count": 13,
   "metadata": {},
   "outputs": [
    {
     "name": "stdout",
     "output_type": "stream",
     "text": [
      " enter :3\n",
      "Greetings!\n"
     ]
    }
   ],
   "source": [
    "spam=int(input(\" enter :\"))\n",
    "if spam == 1:\n",
    "\n",
    "    print('Hello')\n",
    "\n",
    "elif spam == 2:\n",
    "\n",
    "    print('Howdy')\n",
    "    \n",
    "else:\n",
    "    \n",
    "    print('Greetings!')\n",
    "\n"
   ]
  },
  {
   "cell_type": "markdown",
   "metadata": {},
   "source": [
    "##9.If your programme is stuck in an endless loop, what keys you’ll press?\n",
    "\n",
    "We have to press ctrl-C to stop a program stuck in an infinite loop."
   ]
  },
  {
   "cell_type": "markdown",
   "metadata": {},
   "source": [
    "##10. How can you tell the difference between break and continue?\n",
    "\n",
    "The break statement will move the execution outside and just after a loop. \n",
    "\n",
    "The continue statement will move the execution to the start of the loop."
   ]
  },
  {
   "cell_type": "markdown",
   "metadata": {},
   "source": [
    "##11. In a for loop, what is the difference between range(10), range(0, 10), and range(0, 10, 1)?\n",
    "\n",
    "\n",
    "They all do the same thing. \n",
    "\n",
    "range(10) call ranges from 0 up to (but not including) 10.\n",
    "\n",
    "range(0,10) explicitly tells the loop to start at 0 upto 9  \n",
    "\n",
    "range (0,10,1) explicitly tells the loop to increase the variable by 1 on each iteration starting from 0 to 9."
   ]
  },
  {
   "cell_type": "markdown",
   "metadata": {},
   "source": [
    "##12. Write a short program that prints the numbers 1 to 10 using a for loop. Then write an equivalent program that prints the numbers 1 to 10 using a while loop.\n",
    "\n"
   ]
  },
  {
   "cell_type": "code",
   "execution_count": 17,
   "metadata": {},
   "outputs": [
    {
     "name": "stdout",
     "output_type": "stream",
     "text": [
      "1\n",
      "2\n",
      "3\n",
      "4\n",
      "5\n",
      "6\n",
      "7\n",
      "8\n",
      "9\n",
      "10\n"
     ]
    }
   ],
   "source": [
    "# printing 1 to 10 numbers using for loop\n",
    "for i in range(1, 11):\n",
    "    \n",
    "    print(i)"
   ]
  },
  {
   "cell_type": "code",
   "execution_count": 18,
   "metadata": {},
   "outputs": [
    {
     "name": "stdout",
     "output_type": "stream",
     "text": [
      "1\n",
      "2\n",
      "3\n",
      "4\n",
      "5\n",
      "6\n",
      "7\n",
      "8\n",
      "9\n",
      "10\n"
     ]
    }
   ],
   "source": [
    "# printing 1 to 10 numbers using while loop\n",
    "\n",
    "i = 1\n",
    "while(i<=10):\n",
    "    print(i)\n",
    "    i += 1"
   ]
  },
  {
   "cell_type": "markdown",
   "metadata": {},
   "source": [
    "##13. If you had a function named bacon() inside a module named spam, how would you call it after importing spam?\n",
    "\n",
    " In another file it can be called as spam.bacon() after importing spam"
   ]
  },
  {
   "cell_type": "code",
   "execution_count": null,
   "metadata": {},
   "outputs": [],
   "source": []
  }
 ],
 "metadata": {
  "kernelspec": {
   "display_name": "Python 3",
   "language": "python",
   "name": "python3"
  },
  "language_info": {
   "codemirror_mode": {
    "name": "ipython",
    "version": 3
   },
   "file_extension": ".py",
   "mimetype": "text/x-python",
   "name": "python",
   "nbconvert_exporter": "python",
   "pygments_lexer": "ipython3",
   "version": "3.8.3"
  }
 },
 "nbformat": 4,
 "nbformat_minor": 4
}
