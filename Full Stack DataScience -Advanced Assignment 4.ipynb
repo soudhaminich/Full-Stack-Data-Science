{
 "cells": [
  {
   "cell_type": "markdown",
   "metadata": {},
   "source": [
    "##Q1. Which two operator overloading methods can you use in your classes to support iteration?\n",
    "\n",
    "Addition\t+\t__add__(self, other)\n",
    "\n",
    "Subtraction\t-\t__sub__(self, other)"
   ]
  },
  {
   "cell_type": "markdown",
   "metadata": {},
   "source": [
    "##Q2. In what contexts do the two operator overloading methods manage printing?\n",
    "\n",
    "__add__() is used to overload the + operator i.e. when + operator is used with two Complex class objects then the function \n",
    "\n",
    "__add__() is called.\n",
    "\n",
    "__str__() is another special function which is used to provide a format of the object that is suitable for printing."
   ]
  },
  {
   "cell_type": "markdown",
   "metadata": {},
   "source": [
    "##Q3. In a class, how do you intercept slice operations?\n",
    "\n",
    "__getslice__(), __setslice__() and __delslice__() were killed. \n",
    "\n",
    "The syntax a[i:j] now translates to a.__getitem__(slice(i, j))  (or __setitem__() or __delitem__(), when used as an assignment \n",
    "\n",
    "or deletion target, respectively)."
   ]
  },
  {
   "cell_type": "markdown",
   "metadata": {},
   "source": [
    "##Q4. In a class, how do you capture in-place addition?"
   ]
  },
  {
   "cell_type": "markdown",
   "metadata": {},
   "source": [
    "##Q5. When is it appropriate to use operator overloading?\n",
    "\n",
    "\n",
    "Operator overloading in Python is the ability of a single operator to perform more than one operation based on the class (type) of operands.\n",
    "\n",
    "For example, the + operator can be used to add two numbers, concatenate two strings or merge two lists. This is possible because the + operator is overloaded with int and str classes.\n",
    "\n",
    "Similarly, you can define additional methods for these operators to extend their functionality to various new classes and this process is called Operator overloading."
   ]
  },
  {
   "cell_type": "code",
   "execution_count": null,
   "metadata": {},
   "outputs": [],
   "source": []
  }
 ],
 "metadata": {
  "kernelspec": {
   "display_name": "Python 3",
   "language": "python",
   "name": "python3"
  },
  "language_info": {
   "codemirror_mode": {
    "name": "ipython",
    "version": 3
   },
   "file_extension": ".py",
   "mimetype": "text/x-python",
   "name": "python",
   "nbconvert_exporter": "python",
   "pygments_lexer": "ipython3",
   "version": "3.8.3"
  }
 },
 "nbformat": 4,
 "nbformat_minor": 4
}
